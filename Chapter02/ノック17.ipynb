{
 "cells": [
  {
   "cell_type": "code",
   "execution_count": 154,
   "metadata": {},
   "outputs": [],
   "source": [
    "import pandas as pd\n",
    "import numpy as np\n",
    "import matplotlib.pyplot as plt\n",
    "import datetime"
   ]
  },
  {
   "cell_type": "code",
   "execution_count": 104,
   "metadata": {
    "scrolled": true
   },
   "outputs": [
    {
     "data": {
      "text/html": [
       "<div>\n",
       "<style scoped>\n",
       "    .dataframe tbody tr th:only-of-type {\n",
       "        vertical-align: middle;\n",
       "    }\n",
       "\n",
       "    .dataframe tbody tr th {\n",
       "        vertical-align: top;\n",
       "    }\n",
       "\n",
       "    .dataframe thead th {\n",
       "        text-align: right;\n",
       "    }\n",
       "</style>\n",
       "<table border=\"1\" class=\"dataframe\">\n",
       "  <thead>\n",
       "    <tr style=\"text-align: right;\">\n",
       "      <th></th>\n",
       "      <th>purchase_date</th>\n",
       "      <th>item_name</th>\n",
       "      <th>item_price</th>\n",
       "      <th>customer_name</th>\n",
       "    </tr>\n",
       "  </thead>\n",
       "  <tbody>\n",
       "    <tr>\n",
       "      <th>0</th>\n",
       "      <td>2019-06-13 18:02:34</td>\n",
       "      <td>商品A</td>\n",
       "      <td>100.0</td>\n",
       "      <td>深井菜々美</td>\n",
       "    </tr>\n",
       "    <tr>\n",
       "      <th>1</th>\n",
       "      <td>2019-07-13 13:05:29</td>\n",
       "      <td>商 品 S</td>\n",
       "      <td>NaN</td>\n",
       "      <td>浅田賢二</td>\n",
       "    </tr>\n",
       "    <tr>\n",
       "      <th>2</th>\n",
       "      <td>2019-05-11 19:42:07</td>\n",
       "      <td>商 品 a</td>\n",
       "      <td>NaN</td>\n",
       "      <td>南部慶二</td>\n",
       "    </tr>\n",
       "    <tr>\n",
       "      <th>3</th>\n",
       "      <td>2019-02-12 23:40:45</td>\n",
       "      <td>商品Z</td>\n",
       "      <td>2600.0</td>\n",
       "      <td>麻生莉緒</td>\n",
       "    </tr>\n",
       "    <tr>\n",
       "      <th>4</th>\n",
       "      <td>2019-04-22 03:09:35</td>\n",
       "      <td>商品a</td>\n",
       "      <td>NaN</td>\n",
       "      <td>平田鉄二</td>\n",
       "    </tr>\n",
       "  </tbody>\n",
       "</table>\n",
       "</div>"
      ],
      "text/plain": [
       "         purchase_date item_name  item_price customer_name\n",
       "0  2019-06-13 18:02:34       商品A       100.0         深井菜々美\n",
       "1  2019-07-13 13:05:29     商 品 S         NaN          浅田賢二\n",
       "2  2019-05-11 19:42:07     商 品 a         NaN          南部慶二\n",
       "3  2019-02-12 23:40:45       商品Z      2600.0          麻生莉緒\n",
       "4  2019-04-22 03:09:35       商品a         NaN          平田鉄二"
      ]
     },
     "execution_count": 104,
     "metadata": {},
     "output_type": "execute_result"
    }
   ],
   "source": [
    "uriage_data = pd.read_csv(\"uriage.csv\")\n",
    "uriage_data.head()"
   ]
  },
  {
   "cell_type": "code",
   "execution_count": 105,
   "metadata": {},
   "outputs": [
    {
     "data": {
      "text/html": [
       "<div>\n",
       "<style scoped>\n",
       "    .dataframe tbody tr th:only-of-type {\n",
       "        vertical-align: middle;\n",
       "    }\n",
       "\n",
       "    .dataframe tbody tr th {\n",
       "        vertical-align: top;\n",
       "    }\n",
       "\n",
       "    .dataframe thead th {\n",
       "        text-align: right;\n",
       "    }\n",
       "</style>\n",
       "<table border=\"1\" class=\"dataframe\">\n",
       "  <thead>\n",
       "    <tr style=\"text-align: right;\">\n",
       "      <th></th>\n",
       "      <th>顧客名</th>\n",
       "      <th>かな</th>\n",
       "      <th>地域</th>\n",
       "      <th>メールアドレス</th>\n",
       "      <th>登録日</th>\n",
       "    </tr>\n",
       "  </thead>\n",
       "  <tbody>\n",
       "    <tr>\n",
       "      <th>0</th>\n",
       "      <td>須賀ひとみ</td>\n",
       "      <td>すが ひとみ</td>\n",
       "      <td>H市</td>\n",
       "      <td>suga_hitomi@example.com</td>\n",
       "      <td>2018/01/04</td>\n",
       "    </tr>\n",
       "    <tr>\n",
       "      <th>1</th>\n",
       "      <td>岡田　 敏也</td>\n",
       "      <td>おかだ としや</td>\n",
       "      <td>E市</td>\n",
       "      <td>okada_toshiya@example.com</td>\n",
       "      <td>42782</td>\n",
       "    </tr>\n",
       "    <tr>\n",
       "      <th>2</th>\n",
       "      <td>芳賀 希</td>\n",
       "      <td>はが のぞみ</td>\n",
       "      <td>A市</td>\n",
       "      <td>haga_nozomi@example.com</td>\n",
       "      <td>2018/01/07</td>\n",
       "    </tr>\n",
       "    <tr>\n",
       "      <th>3</th>\n",
       "      <td>荻野  愛</td>\n",
       "      <td>おぎの あい</td>\n",
       "      <td>F市</td>\n",
       "      <td>ogino_ai@example.com</td>\n",
       "      <td>42872</td>\n",
       "    </tr>\n",
       "    <tr>\n",
       "      <th>4</th>\n",
       "      <td>栗田 憲一</td>\n",
       "      <td>くりた けんいち</td>\n",
       "      <td>E市</td>\n",
       "      <td>kurita_kenichi@example.com</td>\n",
       "      <td>43127</td>\n",
       "    </tr>\n",
       "  </tbody>\n",
       "</table>\n",
       "</div>"
      ],
      "text/plain": [
       "      顧客名        かな  地域                     メールアドレス         登録日\n",
       "0   須賀ひとみ    すが ひとみ  H市     suga_hitomi@example.com  2018/01/04\n",
       "1  岡田　 敏也   おかだ としや  E市   okada_toshiya@example.com       42782\n",
       "2    芳賀 希    はが のぞみ  A市     haga_nozomi@example.com  2018/01/07\n",
       "3   荻野  愛    おぎの あい  F市        ogino_ai@example.com       42872\n",
       "4   栗田 憲一  くりた けんいち  E市  kurita_kenichi@example.com       43127"
      ]
     },
     "execution_count": 105,
     "metadata": {},
     "output_type": "execute_result"
    }
   ],
   "source": [
    "kokyaku_data = pd.read_excel(\"kokyaku_daicho.xlsx\")\n",
    "kokyaku_data.head()"
   ]
  },
  {
   "cell_type": "code",
   "execution_count": 4,
   "metadata": {},
   "outputs": [
    {
     "data": {
      "text/plain": [
       "0      商品A\n",
       "1    商 品 S\n",
       "2    商 品 a\n",
       "3      商品Z\n",
       "4      商品a\n",
       "Name: item_name, dtype: object"
      ]
     },
     "execution_count": 4,
     "metadata": {},
     "output_type": "execute_result"
    }
   ],
   "source": [
    "uriage_data[\"item_name\"].head()"
   ]
  },
  {
   "cell_type": "code",
   "execution_count": 5,
   "metadata": {},
   "outputs": [
    {
     "data": {
      "text/plain": [
       "0     100.0\n",
       "1       NaN\n",
       "2       NaN\n",
       "3    2600.0\n",
       "4       NaN\n",
       "Name: item_price, dtype: float64"
      ]
     },
     "execution_count": 5,
     "metadata": {},
     "output_type": "execute_result"
    }
   ],
   "source": [
    "uriage_data[\"item_price\"].head()"
   ]
  },
  {
   "cell_type": "code",
   "execution_count": 6,
   "metadata": {},
   "outputs": [
    {
     "data": {
      "text/plain": [
       "0       201906\n",
       "1       201907\n",
       "2       201905\n",
       "3       201902\n",
       "4       201904\n",
       "         ...  \n",
       "2994    201902\n",
       "2995    201906\n",
       "2996    201903\n",
       "2997    201907\n",
       "2998    201907\n",
       "Name: purchase_month, Length: 2999, dtype: object"
      ]
     },
     "execution_count": 6,
     "metadata": {},
     "output_type": "execute_result"
    }
   ],
   "source": [
    "uriage_data[\"purchase_date\"] = pd.to_datetime(uriage_data[\"purchase_date\"])\n",
    "uriage_data[\"purchase_month\"] = uriage_data[\"purchase_date\"].dt.strftime(\"%Y%m\")\n",
    "uriage_data[\"purchase_month\"]"
   ]
  },
  {
   "cell_type": "code",
   "execution_count": 7,
   "metadata": {},
   "outputs": [
    {
     "data": {
      "text/html": [
       "<div>\n",
       "<style scoped>\n",
       "    .dataframe tbody tr th:only-of-type {\n",
       "        vertical-align: middle;\n",
       "    }\n",
       "\n",
       "    .dataframe tbody tr th {\n",
       "        vertical-align: top;\n",
       "    }\n",
       "\n",
       "    .dataframe thead th {\n",
       "        text-align: right;\n",
       "    }\n",
       "</style>\n",
       "<table border=\"1\" class=\"dataframe\">\n",
       "  <thead>\n",
       "    <tr style=\"text-align: right;\">\n",
       "      <th></th>\n",
       "      <th>purchase_date</th>\n",
       "      <th>item_name</th>\n",
       "      <th>item_price</th>\n",
       "      <th>customer_name</th>\n",
       "      <th>purchase_month</th>\n",
       "    </tr>\n",
       "  </thead>\n",
       "  <tbody>\n",
       "    <tr>\n",
       "      <th>0</th>\n",
       "      <td>2019-06-13 18:02:34</td>\n",
       "      <td>商品A</td>\n",
       "      <td>100.0</td>\n",
       "      <td>深井菜々美</td>\n",
       "      <td>201906</td>\n",
       "    </tr>\n",
       "    <tr>\n",
       "      <th>1</th>\n",
       "      <td>2019-07-13 13:05:29</td>\n",
       "      <td>商 品 S</td>\n",
       "      <td>NaN</td>\n",
       "      <td>浅田賢二</td>\n",
       "      <td>201907</td>\n",
       "    </tr>\n",
       "    <tr>\n",
       "      <th>2</th>\n",
       "      <td>2019-05-11 19:42:07</td>\n",
       "      <td>商 品 a</td>\n",
       "      <td>NaN</td>\n",
       "      <td>南部慶二</td>\n",
       "      <td>201905</td>\n",
       "    </tr>\n",
       "    <tr>\n",
       "      <th>3</th>\n",
       "      <td>2019-02-12 23:40:45</td>\n",
       "      <td>商品Z</td>\n",
       "      <td>2600.0</td>\n",
       "      <td>麻生莉緒</td>\n",
       "      <td>201902</td>\n",
       "    </tr>\n",
       "    <tr>\n",
       "      <th>4</th>\n",
       "      <td>2019-04-22 03:09:35</td>\n",
       "      <td>商品a</td>\n",
       "      <td>NaN</td>\n",
       "      <td>平田鉄二</td>\n",
       "      <td>201904</td>\n",
       "    </tr>\n",
       "  </tbody>\n",
       "</table>\n",
       "</div>"
      ],
      "text/plain": [
       "        purchase_date item_name  item_price customer_name purchase_month\n",
       "0 2019-06-13 18:02:34       商品A       100.0         深井菜々美         201906\n",
       "1 2019-07-13 13:05:29     商 品 S         NaN          浅田賢二         201907\n",
       "2 2019-05-11 19:42:07     商 品 a         NaN          南部慶二         201905\n",
       "3 2019-02-12 23:40:45       商品Z      2600.0          麻生莉緒         201902\n",
       "4 2019-04-22 03:09:35       商品a         NaN          平田鉄二         201904"
      ]
     },
     "execution_count": 7,
     "metadata": {},
     "output_type": "execute_result"
    }
   ],
   "source": [
    "uriage_data.head()"
   ]
  },
  {
   "cell_type": "code",
   "execution_count": 8,
   "metadata": {
    "scrolled": true
   },
   "outputs": [
    {
     "data": {
      "text/html": [
       "<div>\n",
       "<style scoped>\n",
       "    .dataframe tbody tr th:only-of-type {\n",
       "        vertical-align: middle;\n",
       "    }\n",
       "\n",
       "    .dataframe tbody tr th {\n",
       "        vertical-align: top;\n",
       "    }\n",
       "\n",
       "    .dataframe thead th {\n",
       "        text-align: right;\n",
       "    }\n",
       "</style>\n",
       "<table border=\"1\" class=\"dataframe\">\n",
       "  <thead>\n",
       "    <tr style=\"text-align: right;\">\n",
       "      <th>item_name</th>\n",
       "      <th>商品W</th>\n",
       "      <th>商 品 n</th>\n",
       "      <th>商品E</th>\n",
       "      <th>商品M</th>\n",
       "      <th>商品P</th>\n",
       "      <th>商品S</th>\n",
       "      <th>商品W</th>\n",
       "      <th>商品X</th>\n",
       "      <th>商  品O</th>\n",
       "      <th>商  品Q</th>\n",
       "      <th>...</th>\n",
       "      <th>商品k</th>\n",
       "      <th>商品l</th>\n",
       "      <th>商品o</th>\n",
       "      <th>商品p</th>\n",
       "      <th>商品r</th>\n",
       "      <th>商品s</th>\n",
       "      <th>商品t</th>\n",
       "      <th>商品v</th>\n",
       "      <th>商品x</th>\n",
       "      <th>商品y</th>\n",
       "    </tr>\n",
       "    <tr>\n",
       "      <th>purchase_month</th>\n",
       "      <th></th>\n",
       "      <th></th>\n",
       "      <th></th>\n",
       "      <th></th>\n",
       "      <th></th>\n",
       "      <th></th>\n",
       "      <th></th>\n",
       "      <th></th>\n",
       "      <th></th>\n",
       "      <th></th>\n",
       "      <th></th>\n",
       "      <th></th>\n",
       "      <th></th>\n",
       "      <th></th>\n",
       "      <th></th>\n",
       "      <th></th>\n",
       "      <th></th>\n",
       "      <th></th>\n",
       "      <th></th>\n",
       "      <th></th>\n",
       "      <th></th>\n",
       "    </tr>\n",
       "  </thead>\n",
       "  <tbody>\n",
       "    <tr>\n",
       "      <th>201901</th>\n",
       "      <td>0</td>\n",
       "      <td>1</td>\n",
       "      <td>0</td>\n",
       "      <td>0</td>\n",
       "      <td>0</td>\n",
       "      <td>0</td>\n",
       "      <td>0</td>\n",
       "      <td>0</td>\n",
       "      <td>0</td>\n",
       "      <td>0</td>\n",
       "      <td>...</td>\n",
       "      <td>1</td>\n",
       "      <td>1</td>\n",
       "      <td>1</td>\n",
       "      <td>0</td>\n",
       "      <td>0</td>\n",
       "      <td>0</td>\n",
       "      <td>0</td>\n",
       "      <td>0</td>\n",
       "      <td>0</td>\n",
       "      <td>0</td>\n",
       "    </tr>\n",
       "    <tr>\n",
       "      <th>201902</th>\n",
       "      <td>0</td>\n",
       "      <td>0</td>\n",
       "      <td>0</td>\n",
       "      <td>0</td>\n",
       "      <td>0</td>\n",
       "      <td>0</td>\n",
       "      <td>0</td>\n",
       "      <td>1</td>\n",
       "      <td>0</td>\n",
       "      <td>0</td>\n",
       "      <td>...</td>\n",
       "      <td>0</td>\n",
       "      <td>0</td>\n",
       "      <td>0</td>\n",
       "      <td>0</td>\n",
       "      <td>0</td>\n",
       "      <td>1</td>\n",
       "      <td>1</td>\n",
       "      <td>1</td>\n",
       "      <td>0</td>\n",
       "      <td>0</td>\n",
       "    </tr>\n",
       "    <tr>\n",
       "      <th>201903</th>\n",
       "      <td>0</td>\n",
       "      <td>0</td>\n",
       "      <td>1</td>\n",
       "      <td>1</td>\n",
       "      <td>1</td>\n",
       "      <td>0</td>\n",
       "      <td>0</td>\n",
       "      <td>0</td>\n",
       "      <td>0</td>\n",
       "      <td>0</td>\n",
       "      <td>...</td>\n",
       "      <td>0</td>\n",
       "      <td>0</td>\n",
       "      <td>0</td>\n",
       "      <td>0</td>\n",
       "      <td>0</td>\n",
       "      <td>0</td>\n",
       "      <td>0</td>\n",
       "      <td>0</td>\n",
       "      <td>0</td>\n",
       "      <td>0</td>\n",
       "    </tr>\n",
       "    <tr>\n",
       "      <th>201904</th>\n",
       "      <td>1</td>\n",
       "      <td>0</td>\n",
       "      <td>0</td>\n",
       "      <td>0</td>\n",
       "      <td>0</td>\n",
       "      <td>0</td>\n",
       "      <td>0</td>\n",
       "      <td>0</td>\n",
       "      <td>0</td>\n",
       "      <td>1</td>\n",
       "      <td>...</td>\n",
       "      <td>0</td>\n",
       "      <td>0</td>\n",
       "      <td>0</td>\n",
       "      <td>0</td>\n",
       "      <td>0</td>\n",
       "      <td>1</td>\n",
       "      <td>0</td>\n",
       "      <td>0</td>\n",
       "      <td>0</td>\n",
       "      <td>0</td>\n",
       "    </tr>\n",
       "    <tr>\n",
       "      <th>201905</th>\n",
       "      <td>0</td>\n",
       "      <td>0</td>\n",
       "      <td>0</td>\n",
       "      <td>0</td>\n",
       "      <td>0</td>\n",
       "      <td>1</td>\n",
       "      <td>0</td>\n",
       "      <td>0</td>\n",
       "      <td>0</td>\n",
       "      <td>0</td>\n",
       "      <td>...</td>\n",
       "      <td>0</td>\n",
       "      <td>1</td>\n",
       "      <td>0</td>\n",
       "      <td>0</td>\n",
       "      <td>0</td>\n",
       "      <td>0</td>\n",
       "      <td>0</td>\n",
       "      <td>0</td>\n",
       "      <td>0</td>\n",
       "      <td>1</td>\n",
       "    </tr>\n",
       "    <tr>\n",
       "      <th>201906</th>\n",
       "      <td>0</td>\n",
       "      <td>0</td>\n",
       "      <td>0</td>\n",
       "      <td>0</td>\n",
       "      <td>0</td>\n",
       "      <td>0</td>\n",
       "      <td>1</td>\n",
       "      <td>0</td>\n",
       "      <td>0</td>\n",
       "      <td>0</td>\n",
       "      <td>...</td>\n",
       "      <td>0</td>\n",
       "      <td>0</td>\n",
       "      <td>0</td>\n",
       "      <td>1</td>\n",
       "      <td>0</td>\n",
       "      <td>0</td>\n",
       "      <td>0</td>\n",
       "      <td>0</td>\n",
       "      <td>1</td>\n",
       "      <td>0</td>\n",
       "    </tr>\n",
       "    <tr>\n",
       "      <th>201907</th>\n",
       "      <td>0</td>\n",
       "      <td>0</td>\n",
       "      <td>0</td>\n",
       "      <td>0</td>\n",
       "      <td>0</td>\n",
       "      <td>0</td>\n",
       "      <td>0</td>\n",
       "      <td>0</td>\n",
       "      <td>1</td>\n",
       "      <td>0</td>\n",
       "      <td>...</td>\n",
       "      <td>0</td>\n",
       "      <td>0</td>\n",
       "      <td>1</td>\n",
       "      <td>0</td>\n",
       "      <td>2</td>\n",
       "      <td>0</td>\n",
       "      <td>0</td>\n",
       "      <td>0</td>\n",
       "      <td>0</td>\n",
       "      <td>0</td>\n",
       "    </tr>\n",
       "  </tbody>\n",
       "</table>\n",
       "<p>7 rows × 99 columns</p>\n",
       "</div>"
      ],
      "text/plain": [
       "item_name         商品W   商 品 n   商品E   商品M   商品P   商品S   商品W   商品X  商  品O  \\\n",
       "purchase_month                                                             \n",
       "201901              0       1     0     0     0     0     0     0      0   \n",
       "201902              0       0     0     0     0     0     0     1      0   \n",
       "201903              0       0     1     1     1     0     0     0      0   \n",
       "201904              1       0     0     0     0     0     0     0      0   \n",
       "201905              0       0     0     0     0     1     0     0      0   \n",
       "201906              0       0     0     0     0     0     1     0      0   \n",
       "201907              0       0     0     0     0     0     0     0      1   \n",
       "\n",
       "item_name       商  品Q  ...  商品k  商品l  商品o  商品p  商品r  商品s  商品t  商品v  商品x  商品y  \n",
       "purchase_month         ...                                                    \n",
       "201901              0  ...    1    1    1    0    0    0    0    0    0    0  \n",
       "201902              0  ...    0    0    0    0    0    1    1    1    0    0  \n",
       "201903              0  ...    0    0    0    0    0    0    0    0    0    0  \n",
       "201904              1  ...    0    0    0    0    0    1    0    0    0    0  \n",
       "201905              0  ...    0    1    0    0    0    0    0    0    0    1  \n",
       "201906              0  ...    0    0    0    1    0    0    0    0    1    0  \n",
       "201907              0  ...    0    0    1    0    2    0    0    0    0    0  \n",
       "\n",
       "[7 rows x 99 columns]"
      ]
     },
     "execution_count": 8,
     "metadata": {},
     "output_type": "execute_result"
    }
   ],
   "source": [
    "uriage_data.pivot_table(index = \"purchase_month\", columns = \"item_name\", fill_value = 0, aggfunc = \"size\")"
   ]
  },
  {
   "cell_type": "code",
   "execution_count": 9,
   "metadata": {},
   "outputs": [
    {
     "data": {
      "text/html": [
       "<div>\n",
       "<style scoped>\n",
       "    .dataframe tbody tr th:only-of-type {\n",
       "        vertical-align: middle;\n",
       "    }\n",
       "\n",
       "    .dataframe tbody tr th {\n",
       "        vertical-align: top;\n",
       "    }\n",
       "\n",
       "    .dataframe thead th {\n",
       "        text-align: right;\n",
       "    }\n",
       "</style>\n",
       "<table border=\"1\" class=\"dataframe\">\n",
       "  <thead>\n",
       "    <tr style=\"text-align: right;\">\n",
       "      <th>item_name</th>\n",
       "      <th>商品W</th>\n",
       "      <th>商 品 n</th>\n",
       "      <th>商品E</th>\n",
       "      <th>商品M</th>\n",
       "      <th>商品P</th>\n",
       "      <th>商品S</th>\n",
       "      <th>商品W</th>\n",
       "      <th>商品X</th>\n",
       "      <th>商  品O</th>\n",
       "      <th>商  品Q</th>\n",
       "      <th>...</th>\n",
       "      <th>商品k</th>\n",
       "      <th>商品l</th>\n",
       "      <th>商品o</th>\n",
       "      <th>商品p</th>\n",
       "      <th>商品r</th>\n",
       "      <th>商品s</th>\n",
       "      <th>商品t</th>\n",
       "      <th>商品v</th>\n",
       "      <th>商品x</th>\n",
       "      <th>商品y</th>\n",
       "    </tr>\n",
       "    <tr>\n",
       "      <th>purchase_month</th>\n",
       "      <th></th>\n",
       "      <th></th>\n",
       "      <th></th>\n",
       "      <th></th>\n",
       "      <th></th>\n",
       "      <th></th>\n",
       "      <th></th>\n",
       "      <th></th>\n",
       "      <th></th>\n",
       "      <th></th>\n",
       "      <th></th>\n",
       "      <th></th>\n",
       "      <th></th>\n",
       "      <th></th>\n",
       "      <th></th>\n",
       "      <th></th>\n",
       "      <th></th>\n",
       "      <th></th>\n",
       "      <th></th>\n",
       "      <th></th>\n",
       "      <th></th>\n",
       "    </tr>\n",
       "  </thead>\n",
       "  <tbody>\n",
       "    <tr>\n",
       "      <th>201901</th>\n",
       "      <td>0</td>\n",
       "      <td>1400</td>\n",
       "      <td>0</td>\n",
       "      <td>0</td>\n",
       "      <td>0</td>\n",
       "      <td>0</td>\n",
       "      <td>0</td>\n",
       "      <td>0</td>\n",
       "      <td>0</td>\n",
       "      <td>0</td>\n",
       "      <td>...</td>\n",
       "      <td>1100</td>\n",
       "      <td>1200</td>\n",
       "      <td>1500</td>\n",
       "      <td>0</td>\n",
       "      <td>0</td>\n",
       "      <td>0</td>\n",
       "      <td>0</td>\n",
       "      <td>0</td>\n",
       "      <td>0</td>\n",
       "      <td>0</td>\n",
       "    </tr>\n",
       "    <tr>\n",
       "      <th>201902</th>\n",
       "      <td>0</td>\n",
       "      <td>0</td>\n",
       "      <td>0</td>\n",
       "      <td>0</td>\n",
       "      <td>0</td>\n",
       "      <td>0</td>\n",
       "      <td>0</td>\n",
       "      <td>2400</td>\n",
       "      <td>0</td>\n",
       "      <td>0</td>\n",
       "      <td>...</td>\n",
       "      <td>0</td>\n",
       "      <td>0</td>\n",
       "      <td>0</td>\n",
       "      <td>0</td>\n",
       "      <td>0</td>\n",
       "      <td>1900</td>\n",
       "      <td>2000</td>\n",
       "      <td>2200</td>\n",
       "      <td>0</td>\n",
       "      <td>0</td>\n",
       "    </tr>\n",
       "    <tr>\n",
       "      <th>201903</th>\n",
       "      <td>0</td>\n",
       "      <td>0</td>\n",
       "      <td>500</td>\n",
       "      <td>1300</td>\n",
       "      <td>1600</td>\n",
       "      <td>0</td>\n",
       "      <td>0</td>\n",
       "      <td>0</td>\n",
       "      <td>0</td>\n",
       "      <td>0</td>\n",
       "      <td>...</td>\n",
       "      <td>0</td>\n",
       "      <td>0</td>\n",
       "      <td>0</td>\n",
       "      <td>0</td>\n",
       "      <td>0</td>\n",
       "      <td>0</td>\n",
       "      <td>0</td>\n",
       "      <td>0</td>\n",
       "      <td>0</td>\n",
       "      <td>0</td>\n",
       "    </tr>\n",
       "    <tr>\n",
       "      <th>201904</th>\n",
       "      <td>2300</td>\n",
       "      <td>0</td>\n",
       "      <td>0</td>\n",
       "      <td>0</td>\n",
       "      <td>0</td>\n",
       "      <td>0</td>\n",
       "      <td>0</td>\n",
       "      <td>0</td>\n",
       "      <td>0</td>\n",
       "      <td>1700</td>\n",
       "      <td>...</td>\n",
       "      <td>0</td>\n",
       "      <td>0</td>\n",
       "      <td>0</td>\n",
       "      <td>0</td>\n",
       "      <td>0</td>\n",
       "      <td>1900</td>\n",
       "      <td>0</td>\n",
       "      <td>0</td>\n",
       "      <td>0</td>\n",
       "      <td>0</td>\n",
       "    </tr>\n",
       "    <tr>\n",
       "      <th>201905</th>\n",
       "      <td>0</td>\n",
       "      <td>0</td>\n",
       "      <td>0</td>\n",
       "      <td>0</td>\n",
       "      <td>0</td>\n",
       "      <td>1900</td>\n",
       "      <td>0</td>\n",
       "      <td>0</td>\n",
       "      <td>0</td>\n",
       "      <td>0</td>\n",
       "      <td>...</td>\n",
       "      <td>0</td>\n",
       "      <td>1200</td>\n",
       "      <td>0</td>\n",
       "      <td>0</td>\n",
       "      <td>0</td>\n",
       "      <td>0</td>\n",
       "      <td>0</td>\n",
       "      <td>0</td>\n",
       "      <td>0</td>\n",
       "      <td>2500</td>\n",
       "    </tr>\n",
       "    <tr>\n",
       "      <th>201906</th>\n",
       "      <td>0</td>\n",
       "      <td>0</td>\n",
       "      <td>0</td>\n",
       "      <td>0</td>\n",
       "      <td>0</td>\n",
       "      <td>0</td>\n",
       "      <td>2300</td>\n",
       "      <td>0</td>\n",
       "      <td>0</td>\n",
       "      <td>0</td>\n",
       "      <td>...</td>\n",
       "      <td>0</td>\n",
       "      <td>0</td>\n",
       "      <td>0</td>\n",
       "      <td>1600</td>\n",
       "      <td>0</td>\n",
       "      <td>0</td>\n",
       "      <td>0</td>\n",
       "      <td>0</td>\n",
       "      <td>2400</td>\n",
       "      <td>0</td>\n",
       "    </tr>\n",
       "    <tr>\n",
       "      <th>201907</th>\n",
       "      <td>0</td>\n",
       "      <td>0</td>\n",
       "      <td>0</td>\n",
       "      <td>0</td>\n",
       "      <td>0</td>\n",
       "      <td>0</td>\n",
       "      <td>0</td>\n",
       "      <td>0</td>\n",
       "      <td>0</td>\n",
       "      <td>0</td>\n",
       "      <td>...</td>\n",
       "      <td>0</td>\n",
       "      <td>0</td>\n",
       "      <td>1500</td>\n",
       "      <td>0</td>\n",
       "      <td>1800</td>\n",
       "      <td>0</td>\n",
       "      <td>0</td>\n",
       "      <td>0</td>\n",
       "      <td>0</td>\n",
       "      <td>0</td>\n",
       "    </tr>\n",
       "  </tbody>\n",
       "</table>\n",
       "<p>7 rows × 99 columns</p>\n",
       "</div>"
      ],
      "text/plain": [
       "item_name         商品W   商 品 n   商品E   商品M   商品P   商品S   商品W   商品X  商  品O  \\\n",
       "purchase_month                                                             \n",
       "201901              0    1400     0     0     0     0     0     0      0   \n",
       "201902              0       0     0     0     0     0     0  2400      0   \n",
       "201903              0       0   500  1300  1600     0     0     0      0   \n",
       "201904           2300       0     0     0     0     0     0     0      0   \n",
       "201905              0       0     0     0     0  1900     0     0      0   \n",
       "201906              0       0     0     0     0     0  2300     0      0   \n",
       "201907              0       0     0     0     0     0     0     0      0   \n",
       "\n",
       "item_name       商  品Q  ...   商品k   商品l   商品o   商品p   商品r   商品s   商品t   商品v  \\\n",
       "purchase_month         ...                                                   \n",
       "201901              0  ...  1100  1200  1500     0     0     0     0     0   \n",
       "201902              0  ...     0     0     0     0     0  1900  2000  2200   \n",
       "201903              0  ...     0     0     0     0     0     0     0     0   \n",
       "201904           1700  ...     0     0     0     0     0  1900     0     0   \n",
       "201905              0  ...     0  1200     0     0     0     0     0     0   \n",
       "201906              0  ...     0     0     0  1600     0     0     0     0   \n",
       "201907              0  ...     0     0  1500     0  1800     0     0     0   \n",
       "\n",
       "item_name        商品x   商品y  \n",
       "purchase_month              \n",
       "201901             0     0  \n",
       "201902             0     0  \n",
       "201903             0     0  \n",
       "201904             0     0  \n",
       "201905             0  2500  \n",
       "201906          2400     0  \n",
       "201907             0     0  \n",
       "\n",
       "[7 rows x 99 columns]"
      ]
     },
     "execution_count": 9,
     "metadata": {},
     "output_type": "execute_result"
    }
   ],
   "source": [
    "uriage_data.pivot_table(index = \"purchase_month\", columns = \"item_name\", values = \"item_price\", aggfunc = \"sum\", fill_value = 0)"
   ]
  },
  {
   "cell_type": "code",
   "execution_count": 10,
   "metadata": {},
   "outputs": [
    {
     "data": {
      "text/plain": [
       "array(['商品A', '商 品 S', '商 品 a', '商品Z', '商品a', '商品S', '商品 a', '商品V', '商品O',\n",
       "       '商 品U', '商品L', '商  品V', '商 品O', '商品C', '商品I', '商品r', '商品X', '商品 g',\n",
       "       '商品R', '商品P', '商品Q', '商品y', '商品 A', '商品N', '商品W', '商 品E', '商品K',\n",
       "       '商品B', '商品F', '商 品s', '  商品W', ' 商 品 n', '商 品F', '商品D', '商品M',\n",
       "       '商品Y', '商品U', '商品H', '商品T', '商品J', '商  品O', '商品E', '商  品Q', ' 商品S',\n",
       "       ' 商品M', '商  品T', '商品G', '商 品G', ' 商品P', ' 商品E', '商 品N', '商 品Y',\n",
       "       '商品 J', '商品 V', '商品 K', '商 品V', '商 品D', '商 品A', '商品 F', '商品 H',\n",
       "       '商 品K', '商 品T', '商品 X', '商品 Q', '商 品X', '商 品H', '商 品C', '商品 B',\n",
       "       '商品 O', '商品 T', '商品v', '商品p', '商品i', '商品 w', '商 品 s', '商 品 q',\n",
       "       '商品s', '商品l', '商品t', '商品k', '商品g', '商品o', '商品 R', '商品 S', '商 品M',\n",
       "       '商品j', '商品d', '商品 I', '商品 E', '商品 o', '商品c', '商品 v', '商品e', '商品x',\n",
       "       '商 品I', ' 商品W', ' 商品X', '商品 M', '商 品P'], dtype=object)"
      ]
     },
     "execution_count": 10,
     "metadata": {},
     "output_type": "execute_result"
    }
   ],
   "source": [
    "uriage_data[\"item_name\"].unique()"
   ]
  },
  {
   "cell_type": "code",
   "execution_count": 11,
   "metadata": {},
   "outputs": [
    {
     "data": {
      "text/plain": [
       "array(['商品A', '商品S', '商品a', '商品Z', '商品V', '商品O', '商品U', '商品L', '商品C',\n",
       "       '商品I', '商品r', '商品X', '商品g', '商品R', '商品P', '商品Q', '商品y', '商品N',\n",
       "       '商品W', '商品E', '商品K', '商品B', '商品F', '商品s', '商品n', '商品D', '商品M',\n",
       "       '商品Y', '商品H', '商品T', '商品J', '商品G', '商品v', '商品p', '商品i', '商品w',\n",
       "       '商品q', '商品l', '商品t', '商品k', '商品o', '商品j', '商品d', '商品c', '商品e',\n",
       "       '商品x'], dtype=object)"
      ]
     },
     "execution_count": 11,
     "metadata": {},
     "output_type": "execute_result"
    }
   ],
   "source": [
    "uriage_data[\"item_name\"] = uriage_data[\"item_name\"].str.replace(\" \", \"\")\n",
    "uriage_data[\"item_name\"].unique()"
   ]
  },
  {
   "cell_type": "code",
   "execution_count": 12,
   "metadata": {},
   "outputs": [
    {
     "data": {
      "text/html": [
       "<div>\n",
       "<style scoped>\n",
       "    .dataframe tbody tr th:only-of-type {\n",
       "        vertical-align: middle;\n",
       "    }\n",
       "\n",
       "    .dataframe tbody tr th {\n",
       "        vertical-align: top;\n",
       "    }\n",
       "\n",
       "    .dataframe thead th {\n",
       "        text-align: right;\n",
       "    }\n",
       "</style>\n",
       "<table border=\"1\" class=\"dataframe\">\n",
       "  <thead>\n",
       "    <tr style=\"text-align: right;\">\n",
       "      <th></th>\n",
       "      <th>purchase_date</th>\n",
       "      <th>item_name</th>\n",
       "      <th>item_price</th>\n",
       "      <th>customer_name</th>\n",
       "      <th>purchase_month</th>\n",
       "    </tr>\n",
       "  </thead>\n",
       "  <tbody>\n",
       "    <tr>\n",
       "      <th>0</th>\n",
       "      <td>2019-06-13 18:02:34</td>\n",
       "      <td>商品A</td>\n",
       "      <td>100.0</td>\n",
       "      <td>深井菜々美</td>\n",
       "      <td>201906</td>\n",
       "    </tr>\n",
       "    <tr>\n",
       "      <th>1742</th>\n",
       "      <td>2019-06-13 16:03:17</td>\n",
       "      <td>商品A</td>\n",
       "      <td>100.0</td>\n",
       "      <td>小平陽子</td>\n",
       "      <td>201906</td>\n",
       "    </tr>\n",
       "    <tr>\n",
       "      <th>1738</th>\n",
       "      <td>2019-02-10 00:28:43</td>\n",
       "      <td>商品A</td>\n",
       "      <td>100.0</td>\n",
       "      <td>松田浩正</td>\n",
       "      <td>201902</td>\n",
       "    </tr>\n",
       "    <tr>\n",
       "      <th>1721</th>\n",
       "      <td>2019-02-24 19:18:05</td>\n",
       "      <td>商品A</td>\n",
       "      <td>100.0</td>\n",
       "      <td>楠哲平</td>\n",
       "      <td>201902</td>\n",
       "    </tr>\n",
       "    <tr>\n",
       "      <th>223</th>\n",
       "      <td>2019-06-25 08:13:20</td>\n",
       "      <td>商品A</td>\n",
       "      <td>100.0</td>\n",
       "      <td>板橋隆</td>\n",
       "      <td>201906</td>\n",
       "    </tr>\n",
       "    <tr>\n",
       "      <th>...</th>\n",
       "      <td>...</td>\n",
       "      <td>...</td>\n",
       "      <td>...</td>\n",
       "      <td>...</td>\n",
       "      <td>...</td>\n",
       "    </tr>\n",
       "    <tr>\n",
       "      <th>1832</th>\n",
       "      <td>2019-03-31 06:47:39</td>\n",
       "      <td>商品v</td>\n",
       "      <td>NaN</td>\n",
       "      <td>高梨結衣</td>\n",
       "      <td>201903</td>\n",
       "    </tr>\n",
       "    <tr>\n",
       "      <th>1336</th>\n",
       "      <td>2019-02-18 08:16:41</td>\n",
       "      <td>商品v</td>\n",
       "      <td>2200.0</td>\n",
       "      <td>志村サダヲ</td>\n",
       "      <td>201902</td>\n",
       "    </tr>\n",
       "    <tr>\n",
       "      <th>1467</th>\n",
       "      <td>2019-05-16 08:27:40</td>\n",
       "      <td>商品w</td>\n",
       "      <td>2300.0</td>\n",
       "      <td>松川綾女</td>\n",
       "      <td>201905</td>\n",
       "    </tr>\n",
       "    <tr>\n",
       "      <th>2031</th>\n",
       "      <td>2019-06-05 13:37:50</td>\n",
       "      <td>商品x</td>\n",
       "      <td>2400.0</td>\n",
       "      <td>田畑正敏</td>\n",
       "      <td>201906</td>\n",
       "    </tr>\n",
       "    <tr>\n",
       "      <th>26</th>\n",
       "      <td>2019-05-16 04:45:21</td>\n",
       "      <td>商品y</td>\n",
       "      <td>2500.0</td>\n",
       "      <td>明石家明</td>\n",
       "      <td>201905</td>\n",
       "    </tr>\n",
       "  </tbody>\n",
       "</table>\n",
       "<p>2999 rows × 5 columns</p>\n",
       "</div>"
      ],
      "text/plain": [
       "           purchase_date item_name  item_price customer_name purchase_month\n",
       "0    2019-06-13 18:02:34       商品A       100.0         深井菜々美         201906\n",
       "1742 2019-06-13 16:03:17       商品A       100.0          小平陽子         201906\n",
       "1738 2019-02-10 00:28:43       商品A       100.0          松田浩正         201902\n",
       "1721 2019-02-24 19:18:05       商品A       100.0           楠哲平         201902\n",
       "223  2019-06-25 08:13:20       商品A       100.0           板橋隆         201906\n",
       "...                  ...       ...         ...           ...            ...\n",
       "1832 2019-03-31 06:47:39       商品v         NaN          高梨結衣         201903\n",
       "1336 2019-02-18 08:16:41       商品v      2200.0         志村サダヲ         201902\n",
       "1467 2019-05-16 08:27:40       商品w      2300.0          松川綾女         201905\n",
       "2031 2019-06-05 13:37:50       商品x      2400.0          田畑正敏         201906\n",
       "26   2019-05-16 04:45:21       商品y      2500.0          明石家明         201905\n",
       "\n",
       "[2999 rows x 5 columns]"
      ]
     },
     "execution_count": 12,
     "metadata": {},
     "output_type": "execute_result"
    }
   ],
   "source": [
    "uriage_data.sort_values(\"item_name\")"
   ]
  },
  {
   "cell_type": "code",
   "execution_count": 13,
   "metadata": {},
   "outputs": [
    {
     "data": {
      "text/plain": [
       "array(['商品A', '商品S', '商品Z', '商品V', '商品O', '商品U', '商品L', '商品C', '商品I',\n",
       "       '商品R', '商品X', '商品G', '商品P', '商品Q', '商品Y', '商品N', '商品W', '商品E',\n",
       "       '商品K', '商品B', '商品F', '商品D', '商品M', '商品H', '商品T', '商品J'],\n",
       "      dtype=object)"
      ]
     },
     "execution_count": 13,
     "metadata": {},
     "output_type": "execute_result"
    }
   ],
   "source": [
    "uriage_data[\"item_name\"] = uriage_data[\"item_name\"].str.upper()\n",
    "uriage_data[\"item_name\"].unique()"
   ]
  },
  {
   "cell_type": "code",
   "execution_count": 14,
   "metadata": {},
   "outputs": [
    {
     "data": {
      "text/plain": [
       "26"
      ]
     },
     "execution_count": 14,
     "metadata": {},
     "output_type": "execute_result"
    }
   ],
   "source": [
    "len(uriage_data[\"item_name\"].unique())"
   ]
  },
  {
   "cell_type": "code",
   "execution_count": 15,
   "metadata": {},
   "outputs": [
    {
     "data": {
      "text/plain": [
       "purchase_date     False\n",
       "item_name         False\n",
       "item_price         True\n",
       "customer_name     False\n",
       "purchase_month    False\n",
       "dtype: bool"
      ]
     },
     "execution_count": 15,
     "metadata": {},
     "output_type": "execute_result"
    }
   ],
   "source": [
    "# Null値が含まれているかの確認\n",
    "\n",
    "uriage_data.isnull().any()"
   ]
  },
  {
   "cell_type": "code",
   "execution_count": 16,
   "metadata": {},
   "outputs": [
    {
     "data": {
      "text/plain": [
       "array(['商品S', '商品A', '商品P', '商品N', '商品W', '商品R', '商品I', '商品L', '商品F',\n",
       "       '商品O', '商品B', '商品C', '商品V', '商品Q', '商品U', '商品K', '商品T', '商品X',\n",
       "       '商品E', '商品M', '商品G', '商品J', '商品D', '商品H', '商品Y'], dtype=object)"
      ]
     },
     "execution_count": 16,
     "metadata": {},
     "output_type": "execute_result"
    }
   ],
   "source": [
    "#Null値が含まれる商品名のリストを作成\n",
    "\n",
    "items_with_null = uriage_data.loc[uriage_data[\"item_price\"].isnull(), \"item_name\"].unique()\n",
    "items_with_null"
   ]
  },
  {
   "cell_type": "code",
   "execution_count": 27,
   "metadata": {},
   "outputs": [
    {
     "data": {
      "text/html": [
       "<div>\n",
       "<style scoped>\n",
       "    .dataframe tbody tr th:only-of-type {\n",
       "        vertical-align: middle;\n",
       "    }\n",
       "\n",
       "    .dataframe tbody tr th {\n",
       "        vertical-align: top;\n",
       "    }\n",
       "\n",
       "    .dataframe thead th {\n",
       "        text-align: right;\n",
       "    }\n",
       "</style>\n",
       "<table border=\"1\" class=\"dataframe\">\n",
       "  <thead>\n",
       "    <tr style=\"text-align: right;\">\n",
       "      <th></th>\n",
       "      <th>purchase_date</th>\n",
       "      <th>item_name</th>\n",
       "      <th>item_price</th>\n",
       "      <th>customer_name</th>\n",
       "      <th>purchase_month</th>\n",
       "    </tr>\n",
       "  </thead>\n",
       "  <tbody>\n",
       "    <tr>\n",
       "      <th>0</th>\n",
       "      <td>2019-06-13 18:02:34</td>\n",
       "      <td>商品A</td>\n",
       "      <td>100.0</td>\n",
       "      <td>深井菜々美</td>\n",
       "      <td>201906</td>\n",
       "    </tr>\n",
       "    <tr>\n",
       "      <th>1</th>\n",
       "      <td>2019-07-13 13:05:29</td>\n",
       "      <td>商品S</td>\n",
       "      <td>1900.0</td>\n",
       "      <td>浅田賢二</td>\n",
       "      <td>201907</td>\n",
       "    </tr>\n",
       "    <tr>\n",
       "      <th>2</th>\n",
       "      <td>2019-05-11 19:42:07</td>\n",
       "      <td>商品A</td>\n",
       "      <td>100.0</td>\n",
       "      <td>南部慶二</td>\n",
       "      <td>201905</td>\n",
       "    </tr>\n",
       "    <tr>\n",
       "      <th>3</th>\n",
       "      <td>2019-02-12 23:40:45</td>\n",
       "      <td>商品Z</td>\n",
       "      <td>2600.0</td>\n",
       "      <td>麻生莉緒</td>\n",
       "      <td>201902</td>\n",
       "    </tr>\n",
       "    <tr>\n",
       "      <th>4</th>\n",
       "      <td>2019-04-22 03:09:35</td>\n",
       "      <td>商品A</td>\n",
       "      <td>100.0</td>\n",
       "      <td>平田鉄二</td>\n",
       "      <td>201904</td>\n",
       "    </tr>\n",
       "  </tbody>\n",
       "</table>\n",
       "</div>"
      ],
      "text/plain": [
       "        purchase_date item_name  item_price customer_name purchase_month\n",
       "0 2019-06-13 18:02:34       商品A       100.0         深井菜々美         201906\n",
       "1 2019-07-13 13:05:29       商品S      1900.0          浅田賢二         201907\n",
       "2 2019-05-11 19:42:07       商品A       100.0          南部慶二         201905\n",
       "3 2019-02-12 23:40:45       商品Z      2600.0          麻生莉緒         201902\n",
       "4 2019-04-22 03:09:35       商品A       100.0          平田鉄二         201904"
      ]
     },
     "execution_count": 27,
     "metadata": {},
     "output_type": "execute_result"
    }
   ],
   "source": [
    "#商品ごとの値段を取りだし、Null値に代入\n",
    "\n",
    "for item in items_with_null:\n",
    "    price = uriage_data.loc[(~uriage_data[\"item_price\"].isnull()) & (uriage_data[\"item_name\"] == item), \"item_price\"].max()\n",
    "    uriage_data.loc[(uriage_data[\"item_price\"].isnull()) & (uriage_data[\"item_name\"] == item), \"item_price\"] = price\n",
    "uriage_data.head()"
   ]
  },
  {
   "cell_type": "code",
   "execution_count": 29,
   "metadata": {},
   "outputs": [
    {
     "data": {
      "text/plain": [
       "purchase_date     False\n",
       "item_name         False\n",
       "item_price        False\n",
       "customer_name     False\n",
       "purchase_month    False\n",
       "dtype: bool"
      ]
     },
     "execution_count": 29,
     "metadata": {},
     "output_type": "execute_result"
    }
   ],
   "source": [
    "#欠損値が含まれているか確認\n",
    "\n",
    "uriage_data.isnull().any()"
   ]
  },
  {
   "cell_type": "code",
   "execution_count": 22,
   "metadata": {},
   "outputs": [
    {
     "data": {
      "text/plain": [
       "array(['商品A', '商品B', '商品C', '商品D', '商品E', '商品F', '商品G', '商品H', '商品I',\n",
       "       '商品J', '商品K', '商品L', '商品M', '商品N', '商品O', '商品P', '商品Q', '商品R',\n",
       "       '商品S', '商品T', '商品U', '商品V', '商品W', '商品X', '商品Y'], dtype=object)"
      ]
     },
     "execution_count": 22,
     "metadata": {},
     "output_type": "execute_result"
    }
   ],
   "source": [
    "# 欠損地が含まれる商品をアルファベット順に並べ替え\n",
    "\n",
    "items_with_null.sort()\n",
    "items_with_null"
   ]
  },
  {
   "cell_type": "code",
   "execution_count": 32,
   "metadata": {},
   "outputs": [
    {
     "data": {
      "text/plain": [
       "purchase_date     False\n",
       "item_name         False\n",
       "item_price        False\n",
       "customer_name     False\n",
       "purchase_month    False\n",
       "dtype: bool"
      ]
     },
     "execution_count": 32,
     "metadata": {},
     "output_type": "execute_result"
    }
   ],
   "source": [
    "uriage_data.isnull().any()"
   ]
  },
  {
   "cell_type": "code",
   "execution_count": 58,
   "metadata": {},
   "outputs": [
    {
     "name": "stdout",
     "output_type": "stream",
     "text": [
      "商品Aの最小金額は100.0,最大金額は100.0\n",
      "商品Bの最小金額は200.0,最大金額は200.0\n",
      "商品Cの最小金額は300.0,最大金額は300.0\n",
      "商品Dの最小金額は400.0,最大金額は400.0\n",
      "商品Eの最小金額は500.0,最大金額は500.0\n",
      "商品Fの最小金額は600.0,最大金額は600.0\n",
      "商品Gの最小金額は700.0,最大金額は700.0\n",
      "商品Hの最小金額は800.0,最大金額は800.0\n",
      "商品Iの最小金額は900.0,最大金額は900.0\n",
      "商品Jの最小金額は1000.0,最大金額は1000.0\n",
      "商品Kの最小金額は1100.0,最大金額は1100.0\n",
      "商品Lの最小金額は1200.0,最大金額は1200.0\n",
      "商品Mの最小金額は1300.0,最大金額は1300.0\n",
      "商品Nの最小金額は1400.0,最大金額は1400.0\n",
      "商品Oの最小金額は1500.0,最大金額は1500.0\n",
      "商品Pの最小金額は1600.0,最大金額は1600.0\n",
      "商品Qの最小金額は1700.0,最大金額は1700.0\n",
      "商品Rの最小金額は1800.0,最大金額は1800.0\n",
      "商品Sの最小金額は1900.0,最大金額は1900.0\n",
      "商品Tの最小金額は2000.0,最大金額は2000.0\n",
      "商品Uの最小金額は2100.0,最大金額は2100.0\n",
      "商品Vの最小金額は2200.0,最大金額は2200.0\n",
      "商品Wの最小金額は2300.0,最大金額は2300.0\n",
      "商品Xの最小金額は2400.0,最大金額は2400.0\n",
      "商品Yの最小金額は2500.0,最大金額は2500.0\n"
     ]
    }
   ],
   "source": [
    "#それぞれの商品の金額の最大値と最小値を集計\n",
    "\n",
    "for item in items_with_null:\n",
    "    min = uriage_data.loc[uriage_data[\"item_name\"] == item, \"item_price\"].min(skipna = False)\n",
    "    max = uriage_data.loc[uriage_data[\"item_name\"] == item, \"item_price\"].max()\n",
    "    print(item + \"の最小金額は\" + str(min) + \",最大金額は\" + str(max))"
   ]
  },
  {
   "cell_type": "markdown",
   "metadata": {},
   "source": [
    "顧客名を表示"
   ]
  },
  {
   "cell_type": "code",
   "execution_count": 62,
   "metadata": {},
   "outputs": [
    {
     "data": {
      "text/plain": [
       "0     須賀ひとみ\n",
       "1    岡田　 敏也\n",
       "2      芳賀 希\n",
       "3     荻野  愛\n",
       "4     栗田 憲一\n",
       "Name: 顧客名, dtype: object"
      ]
     },
     "execution_count": 62,
     "metadata": {},
     "output_type": "execute_result"
    }
   ],
   "source": [
    "kokyaku_data[\"顧客名\"].head()"
   ]
  },
  {
   "cell_type": "code",
   "execution_count": 60,
   "metadata": {},
   "outputs": [
    {
     "data": {
      "text/plain": [
       "0    深井菜々美\n",
       "1     浅田賢二\n",
       "2     南部慶二\n",
       "3     麻生莉緒\n",
       "4     平田鉄二\n",
       "Name: customer_name, dtype: object"
      ]
     },
     "execution_count": 60,
     "metadata": {},
     "output_type": "execute_result"
    }
   ],
   "source": [
    "uriage_data[\"customer_name\"].head()"
   ]
  },
  {
   "cell_type": "code",
   "execution_count": 132,
   "metadata": {},
   "outputs": [
    {
     "data": {
      "text/plain": [
       "0      須賀ひとみ\n",
       "1       岡田敏也\n",
       "2        芳賀希\n",
       "3        荻野愛\n",
       "4       栗田憲一\n",
       "       ...  \n",
       "195     川上りえ\n",
       "196     小松季衣\n",
       "197     白鳥りえ\n",
       "198    大西隆之介\n",
       "199     福井美希\n",
       "Name: 顧客名, Length: 200, dtype: object"
      ]
     },
     "execution_count": 132,
     "metadata": {},
     "output_type": "execute_result"
    }
   ],
   "source": [
    "# kokyaku_dataの顧客名から半角・全角スペースを除去し、代入、表示\n",
    "\n",
    "kokyaku_data[\"顧客名\"] = kokyaku_data[\"顧客名\"].str.replace(\"　\", \"\").str.replace(\" \",\"\")\n",
    "kokyaku_data[\"顧客名\"]"
   ]
  },
  {
   "cell_type": "code",
   "execution_count": 133,
   "metadata": {},
   "outputs": [
    {
     "data": {
      "text/plain": [
       "False"
      ]
     },
     "execution_count": 133,
     "metadata": {},
     "output_type": "execute_result"
    }
   ],
   "source": [
    "# それぞれのDFに空白が含まれていないか確認\n",
    "\n",
    "\" \" in uriage_data[\"customer_name\"]"
   ]
  },
  {
   "cell_type": "code",
   "execution_count": 134,
   "metadata": {},
   "outputs": [
    {
     "data": {
      "text/plain": [
       "False"
      ]
     },
     "execution_count": 134,
     "metadata": {},
     "output_type": "execute_result"
    }
   ],
   "source": [
    "\"　\" in uriage_data[\"customer_name\"]"
   ]
  },
  {
   "cell_type": "code",
   "execution_count": 135,
   "metadata": {},
   "outputs": [
    {
     "data": {
      "text/plain": [
       "False"
      ]
     },
     "execution_count": 135,
     "metadata": {},
     "output_type": "execute_result"
    }
   ],
   "source": [
    "\" \" in kokyaku_data[\"顧客名\"]"
   ]
  },
  {
   "cell_type": "code",
   "execution_count": 136,
   "metadata": {},
   "outputs": [
    {
     "data": {
      "text/plain": [
       "False"
      ]
     },
     "execution_count": 136,
     "metadata": {},
     "output_type": "execute_result"
    }
   ],
   "source": [
    "\" \" in kokyaku_data[\"顧客名\"]"
   ]
  },
  {
   "cell_type": "markdown",
   "metadata": {},
   "source": [
    "空白が含まれていない事が確認出来た"
   ]
  },
  {
   "cell_type": "markdown",
   "metadata": {},
   "source": [
    "# ここから自身の解答"
   ]
  },
  {
   "cell_type": "code",
   "execution_count": 189,
   "metadata": {},
   "outputs": [
    {
     "data": {
      "text/html": [
       "<div>\n",
       "<style scoped>\n",
       "    .dataframe tbody tr th:only-of-type {\n",
       "        vertical-align: middle;\n",
       "    }\n",
       "\n",
       "    .dataframe tbody tr th {\n",
       "        vertical-align: top;\n",
       "    }\n",
       "\n",
       "    .dataframe thead th {\n",
       "        text-align: right;\n",
       "    }\n",
       "</style>\n",
       "<table border=\"1\" class=\"dataframe\">\n",
       "  <thead>\n",
       "    <tr style=\"text-align: right;\">\n",
       "      <th></th>\n",
       "      <th>顧客名</th>\n",
       "      <th>かな</th>\n",
       "      <th>地域</th>\n",
       "      <th>メールアドレス</th>\n",
       "      <th>登録日</th>\n",
       "    </tr>\n",
       "  </thead>\n",
       "  <tbody>\n",
       "    <tr>\n",
       "      <th>0</th>\n",
       "      <td>須賀ひとみ</td>\n",
       "      <td>すが ひとみ</td>\n",
       "      <td>H市</td>\n",
       "      <td>suga_hitomi@example.com</td>\n",
       "      <td>2018/01/04</td>\n",
       "    </tr>\n",
       "    <tr>\n",
       "      <th>1</th>\n",
       "      <td>岡田　 敏也</td>\n",
       "      <td>おかだ としや</td>\n",
       "      <td>E市</td>\n",
       "      <td>okada_toshiya@example.com</td>\n",
       "      <td>42782</td>\n",
       "    </tr>\n",
       "    <tr>\n",
       "      <th>2</th>\n",
       "      <td>芳賀 希</td>\n",
       "      <td>はが のぞみ</td>\n",
       "      <td>A市</td>\n",
       "      <td>haga_nozomi@example.com</td>\n",
       "      <td>2018/01/07</td>\n",
       "    </tr>\n",
       "    <tr>\n",
       "      <th>3</th>\n",
       "      <td>荻野  愛</td>\n",
       "      <td>おぎの あい</td>\n",
       "      <td>F市</td>\n",
       "      <td>ogino_ai@example.com</td>\n",
       "      <td>42872</td>\n",
       "    </tr>\n",
       "    <tr>\n",
       "      <th>4</th>\n",
       "      <td>栗田 憲一</td>\n",
       "      <td>くりた けんいち</td>\n",
       "      <td>E市</td>\n",
       "      <td>kurita_kenichi@example.com</td>\n",
       "      <td>43127</td>\n",
       "    </tr>\n",
       "  </tbody>\n",
       "</table>\n",
       "</div>"
      ],
      "text/plain": [
       "      顧客名        かな  地域                     メールアドレス         登録日\n",
       "0   須賀ひとみ    すが ひとみ  H市     suga_hitomi@example.com  2018/01/04\n",
       "1  岡田　 敏也   おかだ としや  E市   okada_toshiya@example.com       42782\n",
       "2    芳賀 希    はが のぞみ  A市     haga_nozomi@example.com  2018/01/07\n",
       "3   荻野  愛    おぎの あい  F市        ogino_ai@example.com       42872\n",
       "4   栗田 憲一  くりた けんいち  E市  kurita_kenichi@example.com       43127"
      ]
     },
     "execution_count": 189,
     "metadata": {},
     "output_type": "execute_result"
    }
   ],
   "source": [
    "#顧客台帳の書き出し\n",
    "\n",
    "kokyaku_daicho = pd.read_excel(\"kokyaku_daicho.xlsx\")\n",
    "kokyaku_daicho.head()"
   ]
  },
  {
   "cell_type": "code",
   "execution_count": 190,
   "metadata": {},
   "outputs": [
    {
     "data": {
      "text/plain": [
       "0      2018/01/04\n",
       "1           42782\n",
       "2      2018/01/07\n",
       "3           42872\n",
       "4           43127\n",
       "          ...    \n",
       "195    2017/06/20\n",
       "196    2018/06/20\n",
       "197    2017/04/29\n",
       "198    2019/04/19\n",
       "199    2019/04/23\n",
       "Name: 登録日, Length: 200, dtype: object"
      ]
     },
     "execution_count": 190,
     "metadata": {},
     "output_type": "execute_result"
    }
   ],
   "source": [
    "# 登録日の確認\n",
    "\n",
    "kokyaku_daicho[\"登録日\"]"
   ]
  },
  {
   "cell_type": "code",
   "execution_count": 191,
   "metadata": {},
   "outputs": [
    {
     "data": {
      "text/plain": [
       "0      False\n",
       "1       True\n",
       "2      False\n",
       "3       True\n",
       "4       True\n",
       "       ...  \n",
       "195    False\n",
       "196    False\n",
       "197    False\n",
       "198    False\n",
       "199    False\n",
       "Name: 登録日, Length: 200, dtype: bool"
      ]
     },
     "execution_count": 191,
     "metadata": {},
     "output_type": "execute_result"
    }
   ],
   "source": [
    "#登録日列のシリアル値をブール型に変換\n",
    "\n",
    "is_serial_value = kokyaku_daicho[\"登録日\"].astype('str').str.isdigit()\n",
    "is_serial_value"
   ]
  },
  {
   "cell_type": "code",
   "execution_count": 192,
   "metadata": {},
   "outputs": [
    {
     "data": {
      "text/plain": [
       "1     2017-02-18\n",
       "3     2017-05-19\n",
       "4     2018-01-29\n",
       "21    2017-07-06\n",
       "27    2017-06-17\n",
       "47    2017-01-08\n",
       "49    2017-07-15\n",
       "53    2017-04-10\n",
       "76    2018-03-31\n",
       "80    2018-01-12\n",
       "99    2017-06-01\n",
       "114   2018-06-05\n",
       "118   2018-01-31\n",
       "122   2018-04-18\n",
       "139   2017-05-27\n",
       "143   2017-03-26\n",
       "155   2017-01-21\n",
       "172   2018-03-24\n",
       "179   2017-01-10\n",
       "183   2017-07-26\n",
       "186   2018-07-15\n",
       "192   2018-06-10\n",
       "Name: 登録日, dtype: datetime64[ns]"
      ]
     },
     "execution_count": 192,
     "metadata": {},
     "output_type": "execute_result"
    }
   ],
   "source": [
    "#シリアル値を日付に変換したシリーズを作成\n",
    "\n",
    "serial_to_date = pd.to_timedelta(kokyaku_daicho.loc[is_serial_value, '登録日'].astype('float'), unit='D') + pd.to_datetime('1900/01/01')\n",
    "serial_to_date"
   ]
  },
  {
   "cell_type": "code",
   "execution_count": 193,
   "metadata": {},
   "outputs": [
    {
     "data": {
      "text/plain": [
       "0     2018-01-04\n",
       "2     2018-01-07\n",
       "5     2017-06-20\n",
       "6     2018-06-11\n",
       "7     2017-05-19\n",
       "         ...    \n",
       "195   2017-06-20\n",
       "196   2018-06-20\n",
       "197   2017-04-29\n",
       "198   2019-04-19\n",
       "199   2019-04-23\n",
       "Name: 登録日, Length: 178, dtype: datetime64[ns]"
      ]
     },
     "execution_count": 193,
     "metadata": {},
     "output_type": "execute_result"
    }
   ],
   "source": [
    "#文字列を日付型に変換してシリーズを作成\n",
    "\n",
    "object_to_date = pd.to_datetime(kokyaku_daicho.loc[~is_serial_value,\"登録日\"])\n",
    "object_to_date"
   ]
  },
  {
   "cell_type": "code",
   "execution_count": 194,
   "metadata": {},
   "outputs": [],
   "source": [
    "#上記二つのシリーズを結合\n",
    "\n",
    "kokyaku_daicho[\"登録日\"] = pd.concat([serial_to_date, object_to_date])"
   ]
  },
  {
   "cell_type": "code",
   "execution_count": 188,
   "metadata": {},
   "outputs": [
    {
     "data": {
      "text/plain": [
       "0     2018-01-04\n",
       "1     2017-02-18\n",
       "2     2018-01-07\n",
       "3     2017-05-19\n",
       "4     2018-01-29\n",
       "         ...    \n",
       "195   2017-06-20\n",
       "196   2018-06-20\n",
       "197   2017-04-29\n",
       "198   2019-04-19\n",
       "199   2019-04-23\n",
       "Name: 登録日, Length: 200, dtype: datetime64[ns]"
      ]
     },
     "execution_count": 188,
     "metadata": {},
     "output_type": "execute_result"
    }
   ],
   "source": [
    "kokyaku_daicho[\"登録日\"]"
   ]
  },
  {
   "cell_type": "code",
   "execution_count": 202,
   "metadata": {},
   "outputs": [
    {
     "data": {
      "text/plain": [
       "201701    15\n",
       "201702    11\n",
       "201703    14\n",
       "201704    15\n",
       "201705    13\n",
       "201706    14\n",
       "201707    17\n",
       "201801    13\n",
       "201802    15\n",
       "201803    17\n",
       "201804     5\n",
       "201805    19\n",
       "201806    13\n",
       "201807    17\n",
       "201904     2\n",
       "Name: 登録日, dtype: int64"
      ]
     },
     "execution_count": 202,
     "metadata": {},
     "output_type": "execute_result"
    }
   ],
   "source": [
    "# 登録日を月ごとにまとめて、Indexでソート\n",
    "\n",
    "kokyaku_daicho[\"登録日\"].dt.strftime(\"%Y%m\").value_counts().sort_index()"
   ]
  },
  {
   "cell_type": "code",
   "execution_count": 210,
   "metadata": {},
   "outputs": [
    {
     "data": {
      "text/plain": [
       "200"
      ]
     },
     "execution_count": 210,
     "metadata": {},
     "output_type": "execute_result"
    }
   ],
   "source": [
    "#登録日の行数が変わっていないかどうか確認\n",
    "\n",
    "kokyaku_daicho[\"登録日\"].dt.strftime(\"%Y%m\").value_counts().sum()"
   ]
  },
  {
   "cell_type": "code",
   "execution_count": 211,
   "metadata": {},
   "outputs": [
    {
     "data": {
      "text/plain": [
       "False"
      ]
     },
     "execution_count": 211,
     "metadata": {},
     "output_type": "execute_result"
    }
   ],
   "source": [
    "#登録日列に数値・文字列が残っていないか確認\n",
    "\n",
    "float in kokyaku_daicho[\"登録日\"]"
   ]
  },
  {
   "cell_type": "code",
   "execution_count": 212,
   "metadata": {},
   "outputs": [
    {
     "data": {
      "text/plain": [
       "False"
      ]
     },
     "execution_count": 212,
     "metadata": {},
     "output_type": "execute_result"
    }
   ],
   "source": [
    "object in kokyaku_daicho[\"登録日\"]"
   ]
  },
  {
   "cell_type": "code",
   "execution_count": null,
   "metadata": {},
   "outputs": [],
   "source": []
  }
 ],
 "metadata": {
  "kernelspec": {
   "display_name": "Python 3",
   "language": "python",
   "name": "python3"
  },
  "language_info": {
   "codemirror_mode": {
    "name": "ipython",
    "version": 3
   },
   "file_extension": ".py",
   "mimetype": "text/x-python",
   "name": "python",
   "nbconvert_exporter": "python",
   "pygments_lexer": "ipython3",
   "version": "3.7.6"
  }
 },
 "nbformat": 4,
 "nbformat_minor": 4
}
