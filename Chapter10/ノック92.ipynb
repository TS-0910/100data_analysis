{
 "cells": [
  {
   "cell_type": "markdown",
   "metadata": {},
   "source": [
    "# ノック91 - データを読み込んで確認"
   ]
  },
  {
   "cell_type": "code",
   "execution_count": 1,
   "metadata": {},
   "outputs": [],
   "source": [
    "import pandas as pd"
   ]
  },
  {
   "cell_type": "markdown",
   "metadata": {},
   "source": [
    "不動産業者が町の住民に対して実施したアンケートを自然言語処理を用いて分析していく。"
   ]
  },
  {
   "cell_type": "code",
   "execution_count": 52,
   "metadata": {},
   "outputs": [
    {
     "data": {
      "text/html": [
       "<div>\n",
       "<style scoped>\n",
       "    .dataframe tbody tr th:only-of-type {\n",
       "        vertical-align: middle;\n",
       "    }\n",
       "\n",
       "    .dataframe tbody tr th {\n",
       "        vertical-align: top;\n",
       "    }\n",
       "\n",
       "    .dataframe thead th {\n",
       "        text-align: right;\n",
       "    }\n",
       "</style>\n",
       "<table border=\"1\" class=\"dataframe\">\n",
       "  <thead>\n",
       "    <tr style=\"text-align: right;\">\n",
       "      <th></th>\n",
       "      <th>datetime</th>\n",
       "      <th>comment</th>\n",
       "      <th>satisfaction</th>\n",
       "    </tr>\n",
       "  </thead>\n",
       "  <tbody>\n",
       "    <tr>\n",
       "      <th>0</th>\n",
       "      <td>2019/3/11</td>\n",
       "      <td>駅前に若者が集まっている(AA駅)</td>\n",
       "      <td>1</td>\n",
       "    </tr>\n",
       "    <tr>\n",
       "      <th>1</th>\n",
       "      <td>2019/2/25</td>\n",
       "      <td>スポーツできる場所があるのが良い</td>\n",
       "      <td>5</td>\n",
       "    </tr>\n",
       "    <tr>\n",
       "      <th>2</th>\n",
       "      <td>2019/2/18</td>\n",
       "      <td>子育て支援が嬉しい</td>\n",
       "      <td>5</td>\n",
       "    </tr>\n",
       "    <tr>\n",
       "      <th>3</th>\n",
       "      <td>2019/4/9</td>\n",
       "      <td>保育園に入れる（待機児童なし）</td>\n",
       "      <td>4</td>\n",
       "    </tr>\n",
       "    <tr>\n",
       "      <th>4</th>\n",
       "      <td>2019/1/6</td>\n",
       "      <td>駅前商店街が寂しい</td>\n",
       "      <td>2</td>\n",
       "    </tr>\n",
       "  </tbody>\n",
       "</table>\n",
       "</div>"
      ],
      "text/plain": [
       "    datetime            comment  satisfaction\n",
       "0  2019/3/11  駅前に若者が集まっている(AA駅)             1\n",
       "1  2019/2/25   スポーツできる場所があるのが良い             5\n",
       "2  2019/2/18          子育て支援が嬉しい             5\n",
       "3   2019/4/9    保育園に入れる（待機児童なし）             4\n",
       "4   2019/1/6          駅前商店街が寂しい             2"
      ]
     },
     "execution_count": 52,
     "metadata": {},
     "output_type": "execute_result"
    }
   ],
   "source": [
    "#アンケートの読み込み\n",
    "\n",
    "survey = pd.read_csv(\"survey.csv\")\n",
    "survey.head()"
   ]
  },
  {
   "cell_type": "code",
   "execution_count": 53,
   "metadata": {},
   "outputs": [
    {
     "data": {
      "text/plain": [
       "datetime        0\n",
       "comment         2\n",
       "satisfaction    0\n",
       "dtype: int64"
      ]
     },
     "execution_count": 53,
     "metadata": {},
     "output_type": "execute_result"
    }
   ],
   "source": [
    "# 欠損値の確認\n",
    "\n",
    "survey.isnull().sum()"
   ]
  },
  {
   "cell_type": "code",
   "execution_count": 54,
   "metadata": {},
   "outputs": [
    {
     "data": {
      "text/plain": [
       "datetime        0\n",
       "comment         0\n",
       "satisfaction    0\n",
       "dtype: int64"
      ]
     },
     "execution_count": 54,
     "metadata": {},
     "output_type": "execute_result"
    }
   ],
   "source": [
    "# 欠損値の除去\n",
    "\n",
    "survey.dropna(inplace = True)\n",
    "survey.isnull().sum()"
   ]
  },
  {
   "cell_type": "markdown",
   "metadata": {},
   "source": [
    "# ノック92 - 不要な文字を除外する(ここから自身の解答)"
   ]
  },
  {
   "cell_type": "markdown",
   "metadata": {},
   "source": [
    "アンケートのコメント欄から、「AA」という文字を削除する。"
   ]
  },
  {
   "cell_type": "code",
   "execution_count": 55,
   "metadata": {},
   "outputs": [],
   "source": [
    "survey_re = survey.copy()"
   ]
  },
  {
   "cell_type": "code",
   "execution_count": 56,
   "metadata": {},
   "outputs": [
    {
     "data": {
      "text/plain": [
       "0               駅前に若者が集まっている(AA駅)\n",
       "1                スポーツできる場所があるのが良い\n",
       "2                       子育て支援が嬉しい\n",
       "3                 保育園に入れる（待機児童なし）\n",
       "4                       駅前商店街が寂しい\n",
       "                 ...             \n",
       "81              小学校の校庭が芝生なのでとても良い\n",
       "82    ホームページからアンケートを投稿できるようにしてほしい\n",
       "83                  公園に遊び道具が少なすぎる\n",
       "84                  もっと公園を増やしてほしい\n",
       "85                  駅前に駐車場が少ない、不便\n",
       "Name: comment, Length: 84, dtype: object"
      ]
     },
     "execution_count": 56,
     "metadata": {},
     "output_type": "execute_result"
    }
   ],
   "source": [
    "survey_re[\"comment\"]"
   ]
  },
  {
   "cell_type": "code",
   "execution_count": 57,
   "metadata": {},
   "outputs": [
    {
     "data": {
      "text/html": [
       "<div>\n",
       "<style scoped>\n",
       "    .dataframe tbody tr th:only-of-type {\n",
       "        vertical-align: middle;\n",
       "    }\n",
       "\n",
       "    .dataframe tbody tr th {\n",
       "        vertical-align: top;\n",
       "    }\n",
       "\n",
       "    .dataframe thead th {\n",
       "        text-align: right;\n",
       "    }\n",
       "</style>\n",
       "<table border=\"1\" class=\"dataframe\">\n",
       "  <thead>\n",
       "    <tr style=\"text-align: right;\">\n",
       "      <th></th>\n",
       "      <th>datetime</th>\n",
       "      <th>comment</th>\n",
       "      <th>satisfaction</th>\n",
       "    </tr>\n",
       "  </thead>\n",
       "  <tbody>\n",
       "    <tr>\n",
       "      <th>0</th>\n",
       "      <td>2019/3/11</td>\n",
       "      <td>駅前に若者が集まっている(駅)</td>\n",
       "      <td>1</td>\n",
       "    </tr>\n",
       "    <tr>\n",
       "      <th>1</th>\n",
       "      <td>2019/2/25</td>\n",
       "      <td>スポーツできる場所があるのが良い</td>\n",
       "      <td>5</td>\n",
       "    </tr>\n",
       "    <tr>\n",
       "      <th>2</th>\n",
       "      <td>2019/2/18</td>\n",
       "      <td>子育て支援が嬉しい</td>\n",
       "      <td>5</td>\n",
       "    </tr>\n",
       "    <tr>\n",
       "      <th>3</th>\n",
       "      <td>2019/4/9</td>\n",
       "      <td>保育園に入れる（待機児童なし）</td>\n",
       "      <td>4</td>\n",
       "    </tr>\n",
       "    <tr>\n",
       "      <th>4</th>\n",
       "      <td>2019/1/6</td>\n",
       "      <td>駅前商店街が寂しい</td>\n",
       "      <td>2</td>\n",
       "    </tr>\n",
       "  </tbody>\n",
       "</table>\n",
       "</div>"
      ],
      "text/plain": [
       "    datetime           comment  satisfaction\n",
       "0  2019/3/11   駅前に若者が集まっている(駅)             1\n",
       "1  2019/2/25  スポーツできる場所があるのが良い             5\n",
       "2  2019/2/18         子育て支援が嬉しい             5\n",
       "3   2019/4/9   保育園に入れる（待機児童なし）             4\n",
       "4   2019/1/6         駅前商店街が寂しい             2"
      ]
     },
     "execution_count": 57,
     "metadata": {},
     "output_type": "execute_result"
    }
   ],
   "source": [
    "for i in range(len(survey.index)):\n",
    "    survey_re.iloc[i,1] = survey_re.iloc[i,1].replace(\"AA\", \"\")  \n",
    "survey_re.head()"
   ]
  },
  {
   "cell_type": "markdown",
   "metadata": {},
   "source": [
    "次に、正規表現を使って()に囲まれた文字を削除していく。"
   ]
  },
  {
   "cell_type": "code",
   "execution_count": 39,
   "metadata": {},
   "outputs": [],
   "source": [
    "import re"
   ]
  },
  {
   "cell_type": "code",
   "execution_count": 59,
   "metadata": {},
   "outputs": [
    {
     "data": {
      "text/html": [
       "<div>\n",
       "<style scoped>\n",
       "    .dataframe tbody tr th:only-of-type {\n",
       "        vertical-align: middle;\n",
       "    }\n",
       "\n",
       "    .dataframe tbody tr th {\n",
       "        vertical-align: top;\n",
       "    }\n",
       "\n",
       "    .dataframe thead th {\n",
       "        text-align: right;\n",
       "    }\n",
       "</style>\n",
       "<table border=\"1\" class=\"dataframe\">\n",
       "  <thead>\n",
       "    <tr style=\"text-align: right;\">\n",
       "      <th></th>\n",
       "      <th>datetime</th>\n",
       "      <th>comment</th>\n",
       "      <th>satisfaction</th>\n",
       "    </tr>\n",
       "  </thead>\n",
       "  <tbody>\n",
       "    <tr>\n",
       "      <th>0</th>\n",
       "      <td>2019/3/11</td>\n",
       "      <td>駅前に若者が集まっている</td>\n",
       "      <td>1</td>\n",
       "    </tr>\n",
       "    <tr>\n",
       "      <th>1</th>\n",
       "      <td>2019/2/25</td>\n",
       "      <td>スポーツできる場所があるのが良い</td>\n",
       "      <td>5</td>\n",
       "    </tr>\n",
       "    <tr>\n",
       "      <th>2</th>\n",
       "      <td>2019/2/18</td>\n",
       "      <td>子育て支援が嬉しい</td>\n",
       "      <td>5</td>\n",
       "    </tr>\n",
       "    <tr>\n",
       "      <th>3</th>\n",
       "      <td>2019/4/9</td>\n",
       "      <td>保育園に入れる（待機児童なし）</td>\n",
       "      <td>4</td>\n",
       "    </tr>\n",
       "    <tr>\n",
       "      <th>4</th>\n",
       "      <td>2019/1/6</td>\n",
       "      <td>駅前商店街が寂しい</td>\n",
       "      <td>2</td>\n",
       "    </tr>\n",
       "  </tbody>\n",
       "</table>\n",
       "</div>"
      ],
      "text/plain": [
       "    datetime           comment  satisfaction\n",
       "0  2019/3/11      駅前に若者が集まっている             1\n",
       "1  2019/2/25  スポーツできる場所があるのが良い             5\n",
       "2  2019/2/18         子育て支援が嬉しい             5\n",
       "3   2019/4/9   保育園に入れる（待機児童なし）             4\n",
       "4   2019/1/6         駅前商店街が寂しい             2"
      ]
     },
     "execution_count": 59,
     "metadata": {},
     "output_type": "execute_result"
    }
   ],
   "source": [
    "for i in range(len(survey_re.index)):\n",
    "    survey_re.iloc[i,1] = re.sub(r\"\\(.*\\)\", \"\", survey_re.iloc[i,1])\n",
    "survey_re.head()"
   ]
  },
  {
   "cell_type": "markdown",
   "metadata": {},
   "source": [
    "(待機児童なし)が消えていないが、大文字の括弧を使っているためと考えられる。  \n",
    "これも削除する。"
   ]
  },
  {
   "cell_type": "code",
   "execution_count": 60,
   "metadata": {},
   "outputs": [
    {
     "data": {
      "text/html": [
       "<div>\n",
       "<style scoped>\n",
       "    .dataframe tbody tr th:only-of-type {\n",
       "        vertical-align: middle;\n",
       "    }\n",
       "\n",
       "    .dataframe tbody tr th {\n",
       "        vertical-align: top;\n",
       "    }\n",
       "\n",
       "    .dataframe thead th {\n",
       "        text-align: right;\n",
       "    }\n",
       "</style>\n",
       "<table border=\"1\" class=\"dataframe\">\n",
       "  <thead>\n",
       "    <tr style=\"text-align: right;\">\n",
       "      <th></th>\n",
       "      <th>datetime</th>\n",
       "      <th>comment</th>\n",
       "      <th>satisfaction</th>\n",
       "    </tr>\n",
       "  </thead>\n",
       "  <tbody>\n",
       "    <tr>\n",
       "      <th>0</th>\n",
       "      <td>2019/3/11</td>\n",
       "      <td>駅前に若者が集まっている</td>\n",
       "      <td>1</td>\n",
       "    </tr>\n",
       "    <tr>\n",
       "      <th>1</th>\n",
       "      <td>2019/2/25</td>\n",
       "      <td>スポーツできる場所があるのが良い</td>\n",
       "      <td>5</td>\n",
       "    </tr>\n",
       "    <tr>\n",
       "      <th>2</th>\n",
       "      <td>2019/2/18</td>\n",
       "      <td>子育て支援が嬉しい</td>\n",
       "      <td>5</td>\n",
       "    </tr>\n",
       "    <tr>\n",
       "      <th>3</th>\n",
       "      <td>2019/4/9</td>\n",
       "      <td>保育園に入れる</td>\n",
       "      <td>4</td>\n",
       "    </tr>\n",
       "    <tr>\n",
       "      <th>4</th>\n",
       "      <td>2019/1/6</td>\n",
       "      <td>駅前商店街が寂しい</td>\n",
       "      <td>2</td>\n",
       "    </tr>\n",
       "  </tbody>\n",
       "</table>\n",
       "</div>"
      ],
      "text/plain": [
       "    datetime           comment  satisfaction\n",
       "0  2019/3/11      駅前に若者が集まっている             1\n",
       "1  2019/2/25  スポーツできる場所があるのが良い             5\n",
       "2  2019/2/18         子育て支援が嬉しい             5\n",
       "3   2019/4/9           保育園に入れる             4\n",
       "4   2019/1/6         駅前商店街が寂しい             2"
      ]
     },
     "execution_count": 60,
     "metadata": {},
     "output_type": "execute_result"
    }
   ],
   "source": [
    "for i in range(len(survey_re.index)):\n",
    "    survey_re.iloc[i,1] = re.sub(r\"\\（.*\\）\", \"\", survey_re.iloc[i,1])\n",
    "survey_re.head()"
   ]
  },
  {
   "cell_type": "code",
   "execution_count": null,
   "metadata": {},
   "outputs": [],
   "source": []
  }
 ],
 "metadata": {
  "kernelspec": {
   "display_name": "Python 3",
   "language": "python",
   "name": "python3"
  },
  "language_info": {
   "codemirror_mode": {
    "name": "ipython",
    "version": 3
   },
   "file_extension": ".py",
   "mimetype": "text/x-python",
   "name": "python",
   "nbconvert_exporter": "python",
   "pygments_lexer": "ipython3",
   "version": "3.7.6"
  }
 },
 "nbformat": 4,
 "nbformat_minor": 4
}
