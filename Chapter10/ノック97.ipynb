{
 "cells": [
  {
   "cell_type": "markdown",
   "metadata": {},
   "source": [
    "# ノック91 - データを読み込んで確認"
   ]
  },
  {
   "cell_type": "code",
   "execution_count": 1,
   "metadata": {},
   "outputs": [],
   "source": [
    "import pandas as pd"
   ]
  },
  {
   "cell_type": "markdown",
   "metadata": {},
   "source": [
    "不動産業者が町の住民に対して実施したアンケートを自然言語処理を用いて分析していく。"
   ]
  },
  {
   "cell_type": "code",
   "execution_count": 2,
   "metadata": {
    "scrolled": true
   },
   "outputs": [
    {
     "data": {
      "text/html": [
       "<div>\n",
       "<style scoped>\n",
       "    .dataframe tbody tr th:only-of-type {\n",
       "        vertical-align: middle;\n",
       "    }\n",
       "\n",
       "    .dataframe tbody tr th {\n",
       "        vertical-align: top;\n",
       "    }\n",
       "\n",
       "    .dataframe thead th {\n",
       "        text-align: right;\n",
       "    }\n",
       "</style>\n",
       "<table border=\"1\" class=\"dataframe\">\n",
       "  <thead>\n",
       "    <tr style=\"text-align: right;\">\n",
       "      <th></th>\n",
       "      <th>datetime</th>\n",
       "      <th>comment</th>\n",
       "      <th>satisfaction</th>\n",
       "    </tr>\n",
       "  </thead>\n",
       "  <tbody>\n",
       "    <tr>\n",
       "      <th>0</th>\n",
       "      <td>2019/3/11</td>\n",
       "      <td>駅前に若者が集まっている(AA駅)</td>\n",
       "      <td>1</td>\n",
       "    </tr>\n",
       "    <tr>\n",
       "      <th>1</th>\n",
       "      <td>2019/2/25</td>\n",
       "      <td>スポーツできる場所があるのが良い</td>\n",
       "      <td>5</td>\n",
       "    </tr>\n",
       "    <tr>\n",
       "      <th>2</th>\n",
       "      <td>2019/2/18</td>\n",
       "      <td>子育て支援が嬉しい</td>\n",
       "      <td>5</td>\n",
       "    </tr>\n",
       "    <tr>\n",
       "      <th>3</th>\n",
       "      <td>2019/4/9</td>\n",
       "      <td>保育園に入れる（待機児童なし）</td>\n",
       "      <td>4</td>\n",
       "    </tr>\n",
       "    <tr>\n",
       "      <th>4</th>\n",
       "      <td>2019/1/6</td>\n",
       "      <td>駅前商店街が寂しい</td>\n",
       "      <td>2</td>\n",
       "    </tr>\n",
       "  </tbody>\n",
       "</table>\n",
       "</div>"
      ],
      "text/plain": [
       "    datetime            comment  satisfaction\n",
       "0  2019/3/11  駅前に若者が集まっている(AA駅)             1\n",
       "1  2019/2/25   スポーツできる場所があるのが良い             5\n",
       "2  2019/2/18          子育て支援が嬉しい             5\n",
       "3   2019/4/9    保育園に入れる（待機児童なし）             4\n",
       "4   2019/1/6          駅前商店街が寂しい             2"
      ]
     },
     "execution_count": 2,
     "metadata": {},
     "output_type": "execute_result"
    }
   ],
   "source": [
    "#アンケートの読み込み\n",
    "\n",
    "survey = pd.read_csv(\"survey.csv\")\n",
    "survey.head()"
   ]
  },
  {
   "cell_type": "code",
   "execution_count": 3,
   "metadata": {},
   "outputs": [
    {
     "data": {
      "text/plain": [
       "datetime        0\n",
       "comment         2\n",
       "satisfaction    0\n",
       "dtype: int64"
      ]
     },
     "execution_count": 3,
     "metadata": {},
     "output_type": "execute_result"
    }
   ],
   "source": [
    "# 欠損値の確認\n",
    "\n",
    "survey.isnull().sum()"
   ]
  },
  {
   "cell_type": "code",
   "execution_count": 4,
   "metadata": {},
   "outputs": [
    {
     "data": {
      "text/plain": [
       "datetime        0\n",
       "comment         0\n",
       "satisfaction    0\n",
       "dtype: int64"
      ]
     },
     "execution_count": 4,
     "metadata": {},
     "output_type": "execute_result"
    }
   ],
   "source": [
    "# 欠損値の除去\n",
    "\n",
    "survey.dropna(inplace = True)\n",
    "survey.isnull().sum()"
   ]
  },
  {
   "cell_type": "markdown",
   "metadata": {},
   "source": [
    "# ノック92 - 不要な文字を除外する"
   ]
  },
  {
   "cell_type": "markdown",
   "metadata": {},
   "source": [
    "アンケートのコメント欄から、「AA」という文字を削除する。"
   ]
  },
  {
   "cell_type": "code",
   "execution_count": 5,
   "metadata": {},
   "outputs": [],
   "source": [
    "survey_re = survey.copy()"
   ]
  },
  {
   "cell_type": "code",
   "execution_count": 6,
   "metadata": {},
   "outputs": [
    {
     "data": {
      "text/plain": [
       "0               駅前に若者が集まっている(AA駅)\n",
       "1                スポーツできる場所があるのが良い\n",
       "2                       子育て支援が嬉しい\n",
       "3                 保育園に入れる（待機児童なし）\n",
       "4                       駅前商店街が寂しい\n",
       "                 ...             \n",
       "81              小学校の校庭が芝生なのでとても良い\n",
       "82    ホームページからアンケートを投稿できるようにしてほしい\n",
       "83                  公園に遊び道具が少なすぎる\n",
       "84                  もっと公園を増やしてほしい\n",
       "85                  駅前に駐車場が少ない、不便\n",
       "Name: comment, Length: 84, dtype: object"
      ]
     },
     "execution_count": 6,
     "metadata": {},
     "output_type": "execute_result"
    }
   ],
   "source": [
    "survey_re[\"comment\"]"
   ]
  },
  {
   "cell_type": "code",
   "execution_count": 7,
   "metadata": {},
   "outputs": [
    {
     "data": {
      "text/html": [
       "<div>\n",
       "<style scoped>\n",
       "    .dataframe tbody tr th:only-of-type {\n",
       "        vertical-align: middle;\n",
       "    }\n",
       "\n",
       "    .dataframe tbody tr th {\n",
       "        vertical-align: top;\n",
       "    }\n",
       "\n",
       "    .dataframe thead th {\n",
       "        text-align: right;\n",
       "    }\n",
       "</style>\n",
       "<table border=\"1\" class=\"dataframe\">\n",
       "  <thead>\n",
       "    <tr style=\"text-align: right;\">\n",
       "      <th></th>\n",
       "      <th>datetime</th>\n",
       "      <th>comment</th>\n",
       "      <th>satisfaction</th>\n",
       "    </tr>\n",
       "  </thead>\n",
       "  <tbody>\n",
       "    <tr>\n",
       "      <th>0</th>\n",
       "      <td>2019/3/11</td>\n",
       "      <td>駅前に若者が集まっている(駅)</td>\n",
       "      <td>1</td>\n",
       "    </tr>\n",
       "    <tr>\n",
       "      <th>1</th>\n",
       "      <td>2019/2/25</td>\n",
       "      <td>スポーツできる場所があるのが良い</td>\n",
       "      <td>5</td>\n",
       "    </tr>\n",
       "    <tr>\n",
       "      <th>2</th>\n",
       "      <td>2019/2/18</td>\n",
       "      <td>子育て支援が嬉しい</td>\n",
       "      <td>5</td>\n",
       "    </tr>\n",
       "    <tr>\n",
       "      <th>3</th>\n",
       "      <td>2019/4/9</td>\n",
       "      <td>保育園に入れる（待機児童なし）</td>\n",
       "      <td>4</td>\n",
       "    </tr>\n",
       "    <tr>\n",
       "      <th>4</th>\n",
       "      <td>2019/1/6</td>\n",
       "      <td>駅前商店街が寂しい</td>\n",
       "      <td>2</td>\n",
       "    </tr>\n",
       "  </tbody>\n",
       "</table>\n",
       "</div>"
      ],
      "text/plain": [
       "    datetime           comment  satisfaction\n",
       "0  2019/3/11   駅前に若者が集まっている(駅)             1\n",
       "1  2019/2/25  スポーツできる場所があるのが良い             5\n",
       "2  2019/2/18         子育て支援が嬉しい             5\n",
       "3   2019/4/9   保育園に入れる（待機児童なし）             4\n",
       "4   2019/1/6         駅前商店街が寂しい             2"
      ]
     },
     "execution_count": 7,
     "metadata": {},
     "output_type": "execute_result"
    }
   ],
   "source": [
    "survey_re[\"comment\"] = survey_re[\"comment\"].str.replace(\"AA\", \"\")  \n",
    "survey_re.head()"
   ]
  },
  {
   "cell_type": "markdown",
   "metadata": {},
   "source": [
    "次に、正規表現を使って()に囲まれた文字を削除していく。"
   ]
  },
  {
   "cell_type": "code",
   "execution_count": 8,
   "metadata": {},
   "outputs": [],
   "source": [
    "import re"
   ]
  },
  {
   "cell_type": "code",
   "execution_count": 9,
   "metadata": {},
   "outputs": [
    {
     "data": {
      "text/html": [
       "<div>\n",
       "<style scoped>\n",
       "    .dataframe tbody tr th:only-of-type {\n",
       "        vertical-align: middle;\n",
       "    }\n",
       "\n",
       "    .dataframe tbody tr th {\n",
       "        vertical-align: top;\n",
       "    }\n",
       "\n",
       "    .dataframe thead th {\n",
       "        text-align: right;\n",
       "    }\n",
       "</style>\n",
       "<table border=\"1\" class=\"dataframe\">\n",
       "  <thead>\n",
       "    <tr style=\"text-align: right;\">\n",
       "      <th></th>\n",
       "      <th>datetime</th>\n",
       "      <th>comment</th>\n",
       "      <th>satisfaction</th>\n",
       "    </tr>\n",
       "  </thead>\n",
       "  <tbody>\n",
       "    <tr>\n",
       "      <th>0</th>\n",
       "      <td>2019/3/11</td>\n",
       "      <td>駅前に若者が集まっている</td>\n",
       "      <td>1</td>\n",
       "    </tr>\n",
       "    <tr>\n",
       "      <th>1</th>\n",
       "      <td>2019/2/25</td>\n",
       "      <td>スポーツできる場所があるのが良い</td>\n",
       "      <td>5</td>\n",
       "    </tr>\n",
       "    <tr>\n",
       "      <th>2</th>\n",
       "      <td>2019/2/18</td>\n",
       "      <td>子育て支援が嬉しい</td>\n",
       "      <td>5</td>\n",
       "    </tr>\n",
       "    <tr>\n",
       "      <th>3</th>\n",
       "      <td>2019/4/9</td>\n",
       "      <td>保育園に入れる（待機児童なし）</td>\n",
       "      <td>4</td>\n",
       "    </tr>\n",
       "    <tr>\n",
       "      <th>4</th>\n",
       "      <td>2019/1/6</td>\n",
       "      <td>駅前商店街が寂しい</td>\n",
       "      <td>2</td>\n",
       "    </tr>\n",
       "  </tbody>\n",
       "</table>\n",
       "</div>"
      ],
      "text/plain": [
       "    datetime           comment  satisfaction\n",
       "0  2019/3/11      駅前に若者が集まっている             1\n",
       "1  2019/2/25  スポーツできる場所があるのが良い             5\n",
       "2  2019/2/18         子育て支援が嬉しい             5\n",
       "3   2019/4/9   保育園に入れる（待機児童なし）             4\n",
       "4   2019/1/6         駅前商店街が寂しい             2"
      ]
     },
     "execution_count": 9,
     "metadata": {},
     "output_type": "execute_result"
    }
   ],
   "source": [
    "survey_re[\"comment\"] = survey_re[\"comment\"].str.replace(r\"\\(.*\\)\", \"\", regex = True)\n",
    "survey_re.head()"
   ]
  },
  {
   "cell_type": "markdown",
   "metadata": {},
   "source": [
    "(待機児童なし)が消えていないが、大文字の括弧を使っているためと考えられる。  \n",
    "これも削除する。"
   ]
  },
  {
   "cell_type": "code",
   "execution_count": 10,
   "metadata": {},
   "outputs": [
    {
     "data": {
      "text/html": [
       "<div>\n",
       "<style scoped>\n",
       "    .dataframe tbody tr th:only-of-type {\n",
       "        vertical-align: middle;\n",
       "    }\n",
       "\n",
       "    .dataframe tbody tr th {\n",
       "        vertical-align: top;\n",
       "    }\n",
       "\n",
       "    .dataframe thead th {\n",
       "        text-align: right;\n",
       "    }\n",
       "</style>\n",
       "<table border=\"1\" class=\"dataframe\">\n",
       "  <thead>\n",
       "    <tr style=\"text-align: right;\">\n",
       "      <th></th>\n",
       "      <th>datetime</th>\n",
       "      <th>comment</th>\n",
       "      <th>satisfaction</th>\n",
       "    </tr>\n",
       "  </thead>\n",
       "  <tbody>\n",
       "    <tr>\n",
       "      <th>0</th>\n",
       "      <td>2019/3/11</td>\n",
       "      <td>駅前に若者が集まっている</td>\n",
       "      <td>1</td>\n",
       "    </tr>\n",
       "    <tr>\n",
       "      <th>1</th>\n",
       "      <td>2019/2/25</td>\n",
       "      <td>スポーツできる場所があるのが良い</td>\n",
       "      <td>5</td>\n",
       "    </tr>\n",
       "    <tr>\n",
       "      <th>2</th>\n",
       "      <td>2019/2/18</td>\n",
       "      <td>子育て支援が嬉しい</td>\n",
       "      <td>5</td>\n",
       "    </tr>\n",
       "    <tr>\n",
       "      <th>3</th>\n",
       "      <td>2019/4/9</td>\n",
       "      <td>保育園に入れる</td>\n",
       "      <td>4</td>\n",
       "    </tr>\n",
       "    <tr>\n",
       "      <th>4</th>\n",
       "      <td>2019/1/6</td>\n",
       "      <td>駅前商店街が寂しい</td>\n",
       "      <td>2</td>\n",
       "    </tr>\n",
       "  </tbody>\n",
       "</table>\n",
       "</div>"
      ],
      "text/plain": [
       "    datetime           comment  satisfaction\n",
       "0  2019/3/11      駅前に若者が集まっている             1\n",
       "1  2019/2/25  スポーツできる場所があるのが良い             5\n",
       "2  2019/2/18         子育て支援が嬉しい             5\n",
       "3   2019/4/9           保育園に入れる             4\n",
       "4   2019/1/6         駅前商店街が寂しい             2"
      ]
     },
     "execution_count": 10,
     "metadata": {},
     "output_type": "execute_result"
    }
   ],
   "source": [
    "survey_re[\"comment\"] = survey_re[\"comment\"].str.replace(r\"\\（.*\\）\", \"\", regex = True)\n",
    "survey_re.head()"
   ]
  },
  {
   "cell_type": "markdown",
   "metadata": {},
   "source": [
    "# ノック93 - 文字数をカウントしてヒストグラムを表示"
   ]
  },
  {
   "cell_type": "markdown",
   "metadata": {},
   "source": [
    "アンケートコメント欄の文字数の長さを計算する。"
   ]
  },
  {
   "cell_type": "code",
   "execution_count": 11,
   "metadata": {},
   "outputs": [
    {
     "data": {
      "text/html": [
       "<div>\n",
       "<style scoped>\n",
       "    .dataframe tbody tr th:only-of-type {\n",
       "        vertical-align: middle;\n",
       "    }\n",
       "\n",
       "    .dataframe tbody tr th {\n",
       "        vertical-align: top;\n",
       "    }\n",
       "\n",
       "    .dataframe thead th {\n",
       "        text-align: right;\n",
       "    }\n",
       "</style>\n",
       "<table border=\"1\" class=\"dataframe\">\n",
       "  <thead>\n",
       "    <tr style=\"text-align: right;\">\n",
       "      <th></th>\n",
       "      <th>datetime</th>\n",
       "      <th>comment</th>\n",
       "      <th>satisfaction</th>\n",
       "      <th>length</th>\n",
       "    </tr>\n",
       "  </thead>\n",
       "  <tbody>\n",
       "    <tr>\n",
       "      <th>0</th>\n",
       "      <td>2019/3/11</td>\n",
       "      <td>駅前に若者が集まっている</td>\n",
       "      <td>1</td>\n",
       "      <td>12</td>\n",
       "    </tr>\n",
       "    <tr>\n",
       "      <th>1</th>\n",
       "      <td>2019/2/25</td>\n",
       "      <td>スポーツできる場所があるのが良い</td>\n",
       "      <td>5</td>\n",
       "      <td>16</td>\n",
       "    </tr>\n",
       "    <tr>\n",
       "      <th>2</th>\n",
       "      <td>2019/2/18</td>\n",
       "      <td>子育て支援が嬉しい</td>\n",
       "      <td>5</td>\n",
       "      <td>9</td>\n",
       "    </tr>\n",
       "    <tr>\n",
       "      <th>3</th>\n",
       "      <td>2019/4/9</td>\n",
       "      <td>保育園に入れる</td>\n",
       "      <td>4</td>\n",
       "      <td>7</td>\n",
       "    </tr>\n",
       "    <tr>\n",
       "      <th>4</th>\n",
       "      <td>2019/1/6</td>\n",
       "      <td>駅前商店街が寂しい</td>\n",
       "      <td>2</td>\n",
       "      <td>9</td>\n",
       "    </tr>\n",
       "  </tbody>\n",
       "</table>\n",
       "</div>"
      ],
      "text/plain": [
       "    datetime           comment  satisfaction  length\n",
       "0  2019/3/11      駅前に若者が集まっている             1      12\n",
       "1  2019/2/25  スポーツできる場所があるのが良い             5      16\n",
       "2  2019/2/18         子育て支援が嬉しい             5       9\n",
       "3   2019/4/9           保育園に入れる             4       7\n",
       "4   2019/1/6         駅前商店街が寂しい             2       9"
      ]
     },
     "execution_count": 11,
     "metadata": {},
     "output_type": "execute_result"
    }
   ],
   "source": [
    "survey_re[\"length\"] = 0\n",
    "\n",
    "for i in range(len(survey_re.index)):\n",
    "    survey_re.iloc[i, 3] = len(survey_re.iloc[i,1])\n",
    "survey_re.head()"
   ]
  },
  {
   "cell_type": "markdown",
   "metadata": {},
   "source": [
    "ヒストグラムを表示する。"
   ]
  },
  {
   "cell_type": "code",
   "execution_count": 12,
   "metadata": {},
   "outputs": [],
   "source": [
    "import matplotlib.pyplot as plt"
   ]
  },
  {
   "cell_type": "code",
   "execution_count": 13,
   "metadata": {},
   "outputs": [
    {
     "data": {
      "text/plain": [
       "(array([11., 24., 21., 10.,  6.,  6.,  5.,  0.,  0.,  1.]),\n",
       " array([ 4. ,  8.6, 13.2, 17.8, 22.4, 27. , 31.6, 36.2, 40.8, 45.4, 50. ]),\n",
       " <a list of 10 Patch objects>)"
      ]
     },
     "execution_count": 13,
     "metadata": {},
     "output_type": "execute_result"
    },
    {
     "data": {
      "image/png": "[encoded data removed]",
      "text/plain": [
       "<Figure size 432x288 with 1 Axes>"
      ]
     },
     "metadata": {
      "needs_background": "light"
     },
     "output_type": "display_data"
    }
   ],
   "source": [
    "plt.hist(survey_re[\"length\"])"
   ]
  },
  {
   "cell_type": "markdown",
   "metadata": {},
   "source": [
    "「駅前に若者が集まっている」が12文字だったため、同じくらいの長さの一言コメントが多い事が分かる。"
   ]
  },
  {
   "cell_type": "markdown",
   "metadata": {},
   "source": [
    "# ノック94 - 形態素解析で文章を分割"
   ]
  },
  {
   "cell_type": "markdown",
   "metadata": {},
   "source": [
    "「すもももももももものうち」を形態素解析し、品詞ごとに抜き出す。"
   ]
  },
  {
   "cell_type": "code",
   "execution_count": 14,
   "metadata": {
    "scrolled": true
   },
   "outputs": [
    {
     "name": "stdout",
     "output_type": "stream",
     "text": [
      "Requirement already satisfied: mecab in c:\\users\\takeshi\\anaconda3\\lib\\site-packages (0.996.2)\n",
      "Note: you may need to restart the kernel to use updated packages.\n"
     ]
    }
   ],
   "source": [
    "pip install mecab"
   ]
  },
  {
   "cell_type": "code",
   "execution_count": 15,
   "metadata": {},
   "outputs": [
    {
     "name": "stdout",
     "output_type": "stream",
     "text": [
      "Requirement already satisfied: mecab-python3 in c:\\users\\takeshi\\anaconda3\\lib\\site-packages (1.0.3)\n",
      "Note: you may need to restart the kernel to use updated packages.\n"
     ]
    }
   ],
   "source": [
    "pip install mecab-python3"
   ]
  },
  {
   "cell_type": "code",
   "execution_count": 16,
   "metadata": {},
   "outputs": [],
   "source": [
    "import MeCab"
   ]
  },
  {
   "cell_type": "code",
   "execution_count": 17,
   "metadata": {},
   "outputs": [
    {
     "name": "stdout",
     "output_type": "stream",
     "text": [
      "Requirement already satisfied: unidic-lite in c:\\users\\takeshi\\anaconda3\\lib\\site-packages (1.0.7)\n",
      "Note: you may need to restart the kernel to use updated packages.\n"
     ]
    }
   ],
   "source": [
    "pip install unidic-lite"
   ]
  },
  {
   "cell_type": "code",
   "execution_count": 18,
   "metadata": {},
   "outputs": [
    {
     "data": {
      "text/plain": [
       "'すもも\\tスモモ\\tスモモ\\t李\\t名詞-普通名詞-一般\\t\\t\\t0\\nも\\tモ\\tモ\\tも\\t助詞-係助詞\\t\\t\\t\\nもも\\tモモ\\tモモ\\t桃\\t名詞-普通名詞-一般\\t\\t\\t0\\nも\\tモ\\tモ\\tも\\t助詞-係助詞\\t\\t\\t\\nもも\\tモモ\\tモモ\\t桃\\t名詞-普通名詞-一般\\t\\t\\t0\\nの\\tノ\\tノ\\tの\\t助詞-格助詞\\t\\t\\t\\nうち\\tウチ\\tウチ\\t内\\t名詞-普通名詞-副詞可能\\t\\t\\t0\\nEOS\\n'"
      ]
     },
     "execution_count": 18,
     "metadata": {},
     "output_type": "execute_result"
    }
   ],
   "source": [
    "# 形態素に分割\n",
    "\n",
    "mecab = MeCab.Tagger()\n",
    "data = \"すもももももももものうち\"\n",
    "mecab.parse(data)"
   ]
  },
  {
   "cell_type": "code",
   "execution_count": 19,
   "metadata": {},
   "outputs": [],
   "source": [
    "#品詞毎に改行\n",
    "\n",
    "lines = mecab.parse(data).split('\\n')"
   ]
  },
  {
   "cell_type": "code",
   "execution_count": 20,
   "metadata": {},
   "outputs": [
    {
     "data": {
      "text/plain": [
       "['すもも', 'も', 'もも', 'も', 'もも', 'の', 'うち']"
      ]
     },
     "execution_count": 20,
     "metadata": {},
     "output_type": "execute_result"
    }
   ],
   "source": [
    "#各行の先頭を抜き出す\n",
    "\n",
    "words = []\n",
    "for i in range(len(lines)-2):\n",
    "    words.append(re.split(r\"[\\t]\", lines[i])[0])\n",
    "words"
   ]
  },
  {
   "cell_type": "markdown",
   "metadata": {},
   "source": [
    "# ノック95 - 形態素分析で文章から動詞と名詞を抜き出す"
   ]
  },
  {
   "cell_type": "code",
   "execution_count": 54,
   "metadata": {},
   "outputs": [],
   "source": [
    "text = \"すもももももももものうち\""
   ]
  },
  {
   "cell_type": "code",
   "execution_count": 55,
   "metadata": {},
   "outputs": [
    {
     "data": {
      "text/plain": [
       "'すもも\\tスモモ\\tスモモ\\t李\\t名詞-普通名詞-一般\\t\\t\\t0\\nも\\tモ\\tモ\\tも\\t助詞-係助詞\\t\\t\\t\\nもも\\tモモ\\tモモ\\t桃\\t名詞-普通名詞-一般\\t\\t\\t0\\nも\\tモ\\tモ\\tも\\t助詞-係助詞\\t\\t\\t\\nもも\\tモモ\\tモモ\\t桃\\t名詞-普通名詞-一般\\t\\t\\t0\\nの\\tノ\\tノ\\tの\\t助詞-格助詞\\t\\t\\t\\nうち\\tウチ\\tウチ\\t内\\t名詞-普通名詞-副詞可能\\t\\t\\t0\\nEOS\\n'"
      ]
     },
     "execution_count": 55,
     "metadata": {},
     "output_type": "execute_result"
    }
   ],
   "source": [
    "mecab.parse(text)"
   ]
  },
  {
   "cell_type": "code",
   "execution_count": 134,
   "metadata": {},
   "outputs": [
    {
     "data": {
      "text/plain": [
       "['すもも\\tスモモ\\tスモモ\\t李\\t名詞-普通名詞-一般\\t\\t\\t0',\n",
       " 'も\\tモ\\tモ\\tも\\t助詞-係助詞\\t\\t\\t',\n",
       " 'もも\\tモモ\\tモモ\\t桃\\t名詞-普通名詞-一般\\t\\t\\t0',\n",
       " 'も\\tモ\\tモ\\tも\\t助詞-係助詞\\t\\t\\t',\n",
       " 'もも\\tモモ\\tモモ\\t桃\\t名詞-普通名詞-一般\\t\\t\\t0',\n",
       " 'の\\tノ\\tノ\\tの\\t助詞-格助詞\\t\\t\\t',\n",
       " 'うち\\tウチ\\tウチ\\t内\\t名詞-普通名詞-副詞可能\\t\\t\\t0',\n",
       " 'EOS']"
      ]
     },
     "execution_count": 134,
     "metadata": {},
     "output_type": "execute_result"
    }
   ],
   "source": [
    "words = mecab.parse(text).splitlines()\n",
    "words"
   ]
  },
  {
   "cell_type": "code",
   "execution_count": 155,
   "metadata": {},
   "outputs": [
    {
     "data": {
      "text/plain": [
       "['すもも', 'もも', 'もも', 'うち']"
      ]
     },
     "execution_count": 155,
     "metadata": {},
     "output_type": "execute_result"
    }
   ],
   "source": [
    "words_lst = []\n",
    "for i in words:\n",
    "    if \"名詞\" in i or \"動詞\" in i :\n",
    "        words_lst.append(i.split()[0])\n",
    "words_lst        "
   ]
  },
  {
   "cell_type": "markdown",
   "metadata": {},
   "source": [
    "# ノック96 - 頻出する単語を確認"
   ]
  },
  {
   "cell_type": "markdown",
   "metadata": {},
   "source": [
    "アンケートのコメントの中に出てくる名詞を列挙する。"
   ]
  },
  {
   "cell_type": "code",
   "execution_count": 179,
   "metadata": {},
   "outputs": [
    {
     "data": {
      "text/plain": [
       "['駅前',\n",
       " '若者',\n",
       " 'スポーツ',\n",
       " '場所',\n",
       " '子育て',\n",
       " '支援',\n",
       " '保育',\n",
       " '園',\n",
       " '駅前',\n",
       " '商店',\n",
       " '街',\n",
       " '生活',\n",
       " '便利',\n",
       " '場所',\n",
       " '場所',\n",
       " '商業',\n",
       " '施設',\n",
       " '病院',\n",
       " '充実',\n",
       " 'サイクリング',\n",
       " 'コース',\n",
       " '祭り',\n",
       " '学校',\n",
       " '公園',\n",
       " '近く',\n",
       " '公園',\n",
       " 'スーパー',\n",
       " '子育て',\n",
       " 'デート',\n",
       " 'スポット',\n",
       " '商店',\n",
       " '街',\n",
       " '夜道',\n",
       " 'ゴミ',\n",
       " '処理',\n",
       " '楽',\n",
       " '映画',\n",
       " '館',\n",
       " '街路',\n",
       " '樹',\n",
       " '公園',\n",
       " '追加',\n",
       " '観光',\n",
       " 'スポット',\n",
       " '子育て',\n",
       " '道',\n",
       " '都内',\n",
       " 'アクセス',\n",
       " '家賃',\n",
       " 'BBB',\n",
       " '渋滞',\n",
       " 'なん',\n",
       " '商店',\n",
       " '街',\n",
       " '屋根',\n",
       " '雨',\n",
       " '商店',\n",
       " '街',\n",
       " '喫茶',\n",
       " '店',\n",
       " 'スポーツ',\n",
       " 'ジム',\n",
       " '利用',\n",
       " 'スポーツ',\n",
       " 'ジム',\n",
       " '利用',\n",
       " '料金',\n",
       " 'ママ',\n",
       " '支援',\n",
       " 'バス',\n",
       " '自転',\n",
       " '車',\n",
       " 'ランニング',\n",
       " '運動',\n",
       " '場所',\n",
       " '企業',\n",
       " '駅前',\n",
       " '駐車',\n",
       " '場',\n",
       " '変',\n",
       " 'おじ',\n",
       " 'さん',\n",
       " '声',\n",
       " '事',\n",
       " '警察',\n",
       " '巡回',\n",
       " '強化',\n",
       " '消防',\n",
       " '団',\n",
       " '安心',\n",
       " '災害',\n",
       " '時',\n",
       " '避難',\n",
       " '場所',\n",
       " '気',\n",
       " '最近',\n",
       " '川',\n",
       " '氾濫',\n",
       " '被害',\n",
       " '町',\n",
       " '氾濫',\n",
       " '防止',\n",
       " '説明',\n",
       " '信号',\n",
       " '交差',\n",
       " '点',\n",
       " 'ｘｘｘ',\n",
       " '事故',\n",
       " '信号',\n",
       " '商店',\n",
       " '街',\n",
       " '活性',\n",
       " '化',\n",
       " '活動',\n",
       " '行政',\n",
       " '後押し',\n",
       " '子ども',\n",
       " '安全',\n",
       " '場所',\n",
       " '駅前',\n",
       " '駐輪',\n",
       " '場',\n",
       " '不便',\n",
       " '街路',\n",
       " '樹',\n",
       " '落ち葉',\n",
       " '掃除',\n",
       " '街路',\n",
       " '樹',\n",
       " '災害',\n",
       " '時',\n",
       " '備蓄',\n",
       " '状況',\n",
       " '歩道',\n",
       " '道',\n",
       " '安心',\n",
       " '地域',\n",
       " '自治',\n",
       " '体',\n",
       " '支援',\n",
       " '自治',\n",
       " '体',\n",
       " '活動',\n",
       " '安心',\n",
       " '観光',\n",
       " '地',\n",
       " '最近',\n",
       " '他県',\n",
       " 'ナンバー',\n",
       " '車',\n",
       " '防犯',\n",
       " '駐車',\n",
       " '場',\n",
       " '数',\n",
       " '料金',\n",
       " '駅前',\n",
       " '公共',\n",
       " '駐車',\n",
       " '場',\n",
       " '歩行',\n",
       " '者',\n",
       " '用',\n",
       " '信号',\n",
       " '老人',\n",
       " '子供',\n",
       " '事',\n",
       " '設定',\n",
       " '急行',\n",
       " '都内',\n",
       " 'バス',\n",
       " '路線',\n",
       " '春',\n",
       " '桜',\n",
       " '並木',\n",
       " '最高',\n",
       " '桜',\n",
       " '並木',\n",
       " '隣町',\n",
       " 'ごみ',\n",
       " '処理',\n",
       " '施設',\n",
       " '心配',\n",
       " '公害',\n",
       " '市長',\n",
       " '活気',\n",
       " 'アンケート',\n",
       " '確認',\n",
       " '街づくり',\n",
       " '反映',\n",
       " '姿勢',\n",
       " '先月',\n",
       " '職員',\n",
       " '不正',\n",
       " '事件',\n",
       " '詳細',\n",
       " '説明',\n",
       " '役所',\n",
       " '担当',\n",
       " '者',\n",
       " '愛想',\n",
       " '気',\n",
       " '役所',\n",
       " '出張',\n",
       " '所',\n",
       " '駅前',\n",
       " '役所',\n",
       " '土日',\n",
       " '災害',\n",
       " '時',\n",
       " '避難',\n",
       " '経路',\n",
       " '表示',\n",
       " '市',\n",
       " 'ホーム',\n",
       " 'ページ',\n",
       " '役所',\n",
       " '電話',\n",
       " '対応',\n",
       " '者',\n",
       " '路地',\n",
       " '街頭',\n",
       " '動物',\n",
       " '園',\n",
       " '冬場',\n",
       " '路面',\n",
       " '凍結',\n",
       " '事故',\n",
       " '対応',\n",
       " '自然',\n",
       " '野良猫',\n",
       " '糞害',\n",
       " '行政',\n",
       " '野良猫',\n",
       " '対策',\n",
       " '役所',\n",
       " '相談',\n",
       " 'とき',\n",
       " '対応',\n",
       " '高速',\n",
       " '道路',\n",
       " '道',\n",
       " '渋滞',\n",
       " '拡幅',\n",
       " 'まち',\n",
       " 'マスコット',\n",
       " '夜間',\n",
       " '対応',\n",
       " '病院',\n",
       " '不安',\n",
       " '高齢',\n",
       " '者',\n",
       " 'サポート',\n",
       " '施設',\n",
       " '学校',\n",
       " '校庭',\n",
       " '芝生',\n",
       " 'ホーム',\n",
       " 'ページ',\n",
       " 'アンケート',\n",
       " '投稿',\n",
       " '公園',\n",
       " '道具',\n",
       " '公園',\n",
       " '駅前',\n",
       " '駐車',\n",
       " '場',\n",
       " '不便']"
      ]
     },
     "execution_count": 179,
     "metadata": {},
     "output_type": "execute_result"
    }
   ],
   "source": [
    "# コメントをMeCabで抽出\n",
    "\n",
    "comment = []\n",
    "for i in range(len(survey_re.index)):\n",
    "    comment.append(mecab.parse(survey_re.iloc[i,1]))\n",
    "comment\n",
    "\n",
    "# ノック95の容量で名詞のリストを作成\n",
    "noun_lst = []\n",
    "for i in range(len(comment)):\n",
    "    ext_comment= comment[i].splitlines()\n",
    "    for j in ext_comment:\n",
    "        if \"名詞\" in j:\n",
    "            noun_lst.append(j.split()[0])\n",
    "noun_lst "
   ]
  },
  {
   "cell_type": "markdown",
   "metadata": {},
   "source": [
    "次に頻出単語別にリストを作る。"
   ]
  },
  {
   "cell_type": "code",
   "execution_count": 184,
   "metadata": {},
   "outputs": [],
   "source": [
    "import collections"
   ]
  },
  {
   "cell_type": "code",
   "execution_count": 192,
   "metadata": {},
   "outputs": [],
   "source": [
    "noun_collentions = collections.Counter(noun_lst)"
   ]
  },
  {
   "cell_type": "code",
   "execution_count": 209,
   "metadata": {},
   "outputs": [
    {
     "data": {
      "text/html": [
       "<div>\n",
       "<style scoped>\n",
       "    .dataframe tbody tr th:only-of-type {\n",
       "        vertical-align: middle;\n",
       "    }\n",
       "\n",
       "    .dataframe tbody tr th {\n",
       "        vertical-align: top;\n",
       "    }\n",
       "\n",
       "    .dataframe thead th {\n",
       "        text-align: right;\n",
       "    }\n",
       "</style>\n",
       "<table border=\"1\" class=\"dataframe\">\n",
       "  <thead>\n",
       "    <tr style=\"text-align: right;\">\n",
       "      <th></th>\n",
       "      <th>number</th>\n",
       "    </tr>\n",
       "  </thead>\n",
       "  <tbody>\n",
       "    <tr>\n",
       "      <th>駅前</th>\n",
       "      <td>7</td>\n",
       "    </tr>\n",
       "    <tr>\n",
       "      <th>場所</th>\n",
       "      <td>6</td>\n",
       "    </tr>\n",
       "    <tr>\n",
       "      <th>街</th>\n",
       "      <td>5</td>\n",
       "    </tr>\n",
       "    <tr>\n",
       "      <th>場</th>\n",
       "      <td>5</td>\n",
       "    </tr>\n",
       "    <tr>\n",
       "      <th>役所</th>\n",
       "      <td>5</td>\n",
       "    </tr>\n",
       "  </tbody>\n",
       "</table>\n",
       "</div>"
      ],
      "text/plain": [
       "    number\n",
       "駅前       7\n",
       "場所       6\n",
       "街        5\n",
       "場        5\n",
       "役所       5"
      ]
     },
     "execution_count": 209,
     "metadata": {},
     "output_type": "execute_result"
    }
   ],
   "source": [
    "nouns_df = pd.DataFrame(collections.Counter(noun_lst),index=['number'])\n",
    "nouns_df = nouns_df.T.sort_values('number', ascending = False)\n",
    "nouns_df.head()"
   ]
  },
  {
   "cell_type": "markdown",
   "metadata": {},
   "source": [
    "# ノック97 - 関係の無い単語を除去(ここから自身の解答)"
   ]
  },
  {
   "cell_type": "markdown",
   "metadata": {},
   "source": [
    "noun_lstを見てみると、模範解答のような関係の無い単語(「の」等)はほとんど見当たらないため、こちらは省略する。"
   ]
  },
  {
   "cell_type": "code",
   "execution_count": 217,
   "metadata": {},
   "outputs": [
    {
     "data": {
      "text/plain": [
       "['駅前',\n",
       " '若者',\n",
       " 'スポーツ',\n",
       " '場所',\n",
       " '子育て',\n",
       " '支援',\n",
       " '保育',\n",
       " '園',\n",
       " '駅前',\n",
       " '商店',\n",
       " '街',\n",
       " '生活',\n",
       " '便利',\n",
       " '場所',\n",
       " '場所',\n",
       " '商業',\n",
       " '施設',\n",
       " '病院',\n",
       " '充実',\n",
       " 'サイクリング',\n",
       " 'コース',\n",
       " '祭り',\n",
       " '学校',\n",
       " '公園',\n",
       " '近く',\n",
       " '公園',\n",
       " 'スーパー',\n",
       " '子育て',\n",
       " 'デート',\n",
       " 'スポット',\n",
       " '商店',\n",
       " '街',\n",
       " '夜道',\n",
       " 'ゴミ',\n",
       " '処理',\n",
       " '楽',\n",
       " '映画',\n",
       " '館',\n",
       " '街路',\n",
       " '樹',\n",
       " '公園',\n",
       " '追加',\n",
       " '観光',\n",
       " 'スポット',\n",
       " '子育て',\n",
       " '道',\n",
       " '都内',\n",
       " 'アクセス',\n",
       " '家賃',\n",
       " 'BBB',\n",
       " '渋滞',\n",
       " 'なん',\n",
       " '商店',\n",
       " '街',\n",
       " '屋根',\n",
       " '雨',\n",
       " '商店',\n",
       " '街',\n",
       " '喫茶',\n",
       " '店',\n",
       " 'スポーツ',\n",
       " 'ジム',\n",
       " '利用',\n",
       " 'スポーツ',\n",
       " 'ジム',\n",
       " '利用',\n",
       " '料金',\n",
       " 'ママ',\n",
       " '支援',\n",
       " 'バス',\n",
       " '自転',\n",
       " '車',\n",
       " 'ランニング',\n",
       " '運動',\n",
       " '場所',\n",
       " '企業',\n",
       " '駅前',\n",
       " '駐車',\n",
       " '場',\n",
       " '変',\n",
       " 'おじ',\n",
       " 'さん',\n",
       " '声',\n",
       " '事',\n",
       " '警察',\n",
       " '巡回',\n",
       " '強化',\n",
       " '消防',\n",
       " '団',\n",
       " '安心',\n",
       " '災害',\n",
       " '時',\n",
       " '避難',\n",
       " '場所',\n",
       " '気',\n",
       " '最近',\n",
       " '川',\n",
       " '氾濫',\n",
       " '被害',\n",
       " '町',\n",
       " '氾濫',\n",
       " '防止',\n",
       " '説明',\n",
       " '信号',\n",
       " '交差',\n",
       " '点',\n",
       " 'ｘｘｘ',\n",
       " '事故',\n",
       " '信号',\n",
       " '商店',\n",
       " '街',\n",
       " '活性',\n",
       " '化',\n",
       " '活動',\n",
       " '行政',\n",
       " '後押し',\n",
       " '子ども',\n",
       " '安全',\n",
       " '場所',\n",
       " '駅前',\n",
       " '駐輪',\n",
       " '場',\n",
       " '不便',\n",
       " '街路',\n",
       " '樹',\n",
       " '落ち葉',\n",
       " '掃除',\n",
       " '街路',\n",
       " '樹',\n",
       " '災害',\n",
       " '時',\n",
       " '備蓄',\n",
       " '状況',\n",
       " '歩道',\n",
       " '道',\n",
       " '安心',\n",
       " '地域',\n",
       " '自治',\n",
       " '体',\n",
       " '支援',\n",
       " '自治',\n",
       " '体',\n",
       " '活動',\n",
       " '安心',\n",
       " '観光',\n",
       " '地',\n",
       " '最近',\n",
       " '他県',\n",
       " 'ナンバー',\n",
       " '車',\n",
       " '防犯',\n",
       " '駐車',\n",
       " '場',\n",
       " '数',\n",
       " '料金',\n",
       " '駅前',\n",
       " '公共',\n",
       " '駐車',\n",
       " '場',\n",
       " '歩行',\n",
       " '者',\n",
       " '用',\n",
       " '信号',\n",
       " '老人',\n",
       " '子供',\n",
       " '事',\n",
       " '設定',\n",
       " '急行',\n",
       " '都内',\n",
       " 'バス',\n",
       " '路線',\n",
       " '春',\n",
       " '桜',\n",
       " '並木',\n",
       " '最高',\n",
       " '桜',\n",
       " '並木',\n",
       " '隣町',\n",
       " 'ごみ',\n",
       " '処理',\n",
       " '施設',\n",
       " '心配',\n",
       " '公害',\n",
       " '市長',\n",
       " '活気',\n",
       " 'アンケート',\n",
       " '確認',\n",
       " '街づくり',\n",
       " '反映',\n",
       " '姿勢',\n",
       " '先月',\n",
       " '職員',\n",
       " '不正',\n",
       " '事件',\n",
       " '詳細',\n",
       " '説明',\n",
       " '役所',\n",
       " '担当',\n",
       " '者',\n",
       " '愛想',\n",
       " '気',\n",
       " '役所',\n",
       " '出張',\n",
       " '所',\n",
       " '駅前',\n",
       " '役所',\n",
       " '土日',\n",
       " '災害',\n",
       " '時',\n",
       " '避難',\n",
       " '経路',\n",
       " '表示',\n",
       " '市',\n",
       " 'ホーム',\n",
       " 'ページ',\n",
       " '役所',\n",
       " '電話',\n",
       " '対応',\n",
       " '者',\n",
       " '路地',\n",
       " '街頭',\n",
       " '動物',\n",
       " '園',\n",
       " '冬場',\n",
       " '路面',\n",
       " '凍結',\n",
       " '事故',\n",
       " '対応',\n",
       " '自然',\n",
       " '野良猫',\n",
       " '糞害',\n",
       " '行政',\n",
       " '野良猫',\n",
       " '対策',\n",
       " '役所',\n",
       " '相談',\n",
       " 'とき',\n",
       " '対応',\n",
       " '高速',\n",
       " '道路',\n",
       " '道',\n",
       " '渋滞',\n",
       " '拡幅',\n",
       " 'まち',\n",
       " 'マスコット',\n",
       " '夜間',\n",
       " '対応',\n",
       " '病院',\n",
       " '不安',\n",
       " '高齢',\n",
       " '者',\n",
       " 'サポート',\n",
       " '施設',\n",
       " '学校',\n",
       " '校庭',\n",
       " '芝生',\n",
       " 'ホーム',\n",
       " 'ページ',\n",
       " 'アンケート',\n",
       " '投稿',\n",
       " '公園',\n",
       " '道具',\n",
       " '公園',\n",
       " '駅前',\n",
       " '駐車',\n",
       " '場',\n",
       " '不便']"
      ]
     },
     "execution_count": 217,
     "metadata": {},
     "output_type": "execute_result"
    }
   ],
   "source": [
    "noun_lst"
   ]
  },
  {
   "cell_type": "code",
   "execution_count": null,
   "metadata": {},
   "outputs": [],
   "source": []
  }
 ],
 "metadata": {
  "kernelspec": {
   "display_name": "Python 3",
   "language": "python",
   "name": "python3"
  },
  "language_info": {
   "codemirror_mode": {
    "name": "ipython",
    "version": 3
   },
   "file_extension": ".py",
   "mimetype": "text/x-python",
   "name": "python",
   "nbconvert_exporter": "python",
   "pygments_lexer": "ipython3",
   "version": "3.7.6"
  }
 },
 "nbformat": 4,
 "nbformat_minor": 4
}
